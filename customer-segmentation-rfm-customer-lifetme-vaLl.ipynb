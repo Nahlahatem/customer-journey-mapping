{
 "cells": [
  {
   "cell_type": "markdown",
   "id": "2f7cfc84",
   "metadata": {
    "papermill": {
     "duration": 0.030124,
     "end_time": "2021-12-29T10:36:14.326918",
     "exception": false,
     "start_time": "2021-12-29T10:36:14.296794",
     "status": "completed"
    },
    "tags": []
   },
   "source": [
    "# This notebook gives busineess action plans based on customer segments using RFM and Customer Life Time value\n",
    "\n",
    "**In this notebook we have not only provided business insights for this particular data**\n",
    "\n",
    "**but also built a generic function to calculate customer life time value**"
   ]
  },
  {
   "cell_type": "code",
   "execution_count": 1,
   "id": "78c6be2e",
   "metadata": {
    "_kg_hide-input": true,
    "_kg_hide-output": true,
    "execution": {
     "iopub.execute_input": "2021-12-29T10:36:14.390055Z",
     "iopub.status.busy": "2021-12-29T10:36:14.388293Z",
     "iopub.status.idle": "2021-12-29T10:36:41.558682Z",
     "shell.execute_reply": "2021-12-29T10:36:41.558098Z",
     "shell.execute_reply.started": "2021-12-29T09:34:54.683043Z"
    },
    "papermill": {
     "duration": 27.203322,
     "end_time": "2021-12-29T10:36:41.558829",
     "exception": false,
     "start_time": "2021-12-29T10:36:14.355507",
     "status": "completed"
    },
    "tags": []
   },
   "outputs": [
    {
     "name": "stdout",
     "output_type": "stream",
     "text": [
      "Requirement already satisfied: lifetimes in c:\\users\\lap1\\anaconda3\\lib\\site-packages (0.11.3)\n",
      "Requirement already satisfied: pandas>=0.24.0 in c:\\users\\lap1\\anaconda3\\lib\\site-packages (from lifetimes) (1.3.4)\n",
      "Requirement already satisfied: scipy>=1.0.0 in c:\\users\\lap1\\anaconda3\\lib\\site-packages (from lifetimes) (1.7.1)\n",
      "Requirement already satisfied: autograd>=1.2.0 in c:\\users\\lap1\\anaconda3\\lib\\site-packages (from lifetimes) (1.6.2)\n",
      "Requirement already satisfied: numpy>=1.10.0 in c:\\users\\lap1\\anaconda3\\lib\\site-packages (from lifetimes) (1.22.4)\n",
      "Requirement already satisfied: dill>=0.2.6 in c:\\users\\lap1\\anaconda3\\lib\\site-packages (from lifetimes) (0.3.6)\n",
      "Requirement already satisfied: future>=0.15.2 in c:\\users\\lap1\\anaconda3\\lib\\site-packages (from autograd>=1.2.0->lifetimes) (0.18.3)\n",
      "Requirement already satisfied: pytz>=2017.3 in c:\\users\\lap1\\anaconda3\\lib\\site-packages (from pandas>=0.24.0->lifetimes) (2022.7)\n",
      "Requirement already satisfied: python-dateutil>=2.7.3 in c:\\users\\lap1\\anaconda3\\lib\\site-packages (from pandas>=0.24.0->lifetimes) (2.8.2)\n",
      "Requirement already satisfied: six>=1.5 in c:\\users\\lap1\\anaconda3\\lib\\site-packages (from python-dateutil>=2.7.3->pandas>=0.24.0->lifetimes) (1.16.0)\n"
     ]
    },
    {
     "name": "stderr",
     "output_type": "stream",
     "text": [
      "WARNING: Ignoring invalid distribution -rotobuf (c:\\users\\lap1\\anaconda3\\lib\\site-packages)\n",
      "WARNING: Ignoring invalid distribution -rotobuf (c:\\users\\lap1\\anaconda3\\lib\\site-packages)\n",
      "WARNING: Ignoring invalid distribution -rotobuf (c:\\users\\lap1\\anaconda3\\lib\\site-packages)\n",
      "WARNING: Ignoring invalid distribution -rotobuf (c:\\users\\lap1\\anaconda3\\lib\\site-packages)\n",
      "WARNING: Ignoring invalid distribution -rotobuf (c:\\users\\lap1\\anaconda3\\lib\\site-packages)\n",
      "WARNING: Ignoring invalid distribution -rotobuf (c:\\users\\lap1\\anaconda3\\lib\\site-packages)\n"
     ]
    },
    {
     "name": "stdout",
     "output_type": "stream",
     "text": [
      "Requirement already satisfied: seaborn in c:\\users\\lap1\\anaconda3\\lib\\site-packages (0.11.2)\n",
      "Requirement already satisfied: matplotlib>=2.2 in c:\\users\\lap1\\anaconda3\\lib\\site-packages (from seaborn) (3.4.3)\n",
      "Requirement already satisfied: scipy>=1.0 in c:\\users\\lap1\\anaconda3\\lib\\site-packages (from seaborn) (1.7.1)\n",
      "Requirement already satisfied: numpy>=1.15 in c:\\users\\lap1\\anaconda3\\lib\\site-packages (from seaborn) (1.22.4)\n",
      "Requirement already satisfied: pandas>=0.23 in c:\\users\\lap1\\anaconda3\\lib\\site-packages (from seaborn) (1.3.4)\n",
      "Requirement already satisfied: pyparsing>=2.2.1 in c:\\users\\lap1\\anaconda3\\lib\\site-packages (from matplotlib>=2.2->seaborn) (3.0.9)\n",
      "Requirement already satisfied: kiwisolver>=1.0.1 in c:\\users\\lap1\\anaconda3\\lib\\site-packages (from matplotlib>=2.2->seaborn) (1.4.4)\n",
      "Requirement already satisfied: cycler>=0.10 in c:\\users\\lap1\\anaconda3\\lib\\site-packages (from matplotlib>=2.2->seaborn) (0.11.0)\n",
      "Requirement already satisfied: python-dateutil>=2.7 in c:\\users\\lap1\\anaconda3\\lib\\site-packages (from matplotlib>=2.2->seaborn) (2.8.2)\n",
      "Requirement already satisfied: pillow>=6.2.0 in c:\\users\\lap1\\anaconda3\\lib\\site-packages (from matplotlib>=2.2->seaborn) (9.4.0)\n",
      "Requirement already satisfied: pytz>=2017.3 in c:\\users\\lap1\\anaconda3\\lib\\site-packages (from pandas>=0.23->seaborn) (2022.7)\n",
      "Requirement already satisfied: six>=1.5 in c:\\users\\lap1\\anaconda3\\lib\\site-packages (from python-dateutil>=2.7->matplotlib>=2.2->seaborn) (1.16.0)\n"
     ]
    },
    {
     "name": "stderr",
     "output_type": "stream",
     "text": [
      "WARNING: Ignoring invalid distribution -rotobuf (c:\\users\\lap1\\anaconda3\\lib\\site-packages)\n",
      "WARNING: Ignoring invalid distribution -rotobuf (c:\\users\\lap1\\anaconda3\\lib\\site-packages)\n",
      "WARNING: Ignoring invalid distribution -rotobuf (c:\\users\\lap1\\anaconda3\\lib\\site-packages)\n",
      "WARNING: Ignoring invalid distribution -rotobuf (c:\\users\\lap1\\anaconda3\\lib\\site-packages)\n",
      "WARNING: Ignoring invalid distribution -rotobuf (c:\\users\\lap1\\anaconda3\\lib\\site-packages)\n",
      "WARNING: Ignoring invalid distribution -rotobuf (c:\\users\\lap1\\anaconda3\\lib\\site-packages)\n"
     ]
    },
    {
     "name": "stdout",
     "output_type": "stream",
     "text": [
      "Requirement already satisfied: dexplot in c:\\users\\lap1\\anaconda3\\lib\\site-packages (0.1.4)\n",
      "Requirement already satisfied: numpy>=1.15 in c:\\users\\lap1\\anaconda3\\lib\\site-packages (from dexplot) (1.22.4)\n",
      "Requirement already satisfied: pandas>=0.24 in c:\\users\\lap1\\anaconda3\\lib\\site-packages (from dexplot) (1.3.4)\n",
      "Requirement already satisfied: scipy>=1.0matplotlib>=3.1 in c:\\users\\lap1\\anaconda3\\lib\\site-packages (from dexplot) (1.7.1)\n",
      "Requirement already satisfied: pytz>=2017.3 in c:\\users\\lap1\\anaconda3\\lib\\site-packages (from pandas>=0.24->dexplot) (2022.7)\n",
      "Requirement already satisfied: python-dateutil>=2.7.3 in c:\\users\\lap1\\anaconda3\\lib\\site-packages (from pandas>=0.24->dexplot) (2.8.2)\n",
      "Requirement already satisfied: six>=1.5 in c:\\users\\lap1\\anaconda3\\lib\\site-packages (from python-dateutil>=2.7.3->pandas>=0.24->dexplot) (1.16.0)\n"
     ]
    },
    {
     "name": "stderr",
     "output_type": "stream",
     "text": [
      "WARNING: Ignoring invalid distribution -rotobuf (c:\\users\\lap1\\anaconda3\\lib\\site-packages)\n",
      "WARNING: Ignoring invalid distribution -rotobuf (c:\\users\\lap1\\anaconda3\\lib\\site-packages)\n",
      "WARNING: Ignoring invalid distribution -rotobuf (c:\\users\\lap1\\anaconda3\\lib\\site-packages)\n",
      "WARNING: Ignoring invalid distribution -rotobuf (c:\\users\\lap1\\anaconda3\\lib\\site-packages)\n",
      "WARNING: Ignoring invalid distribution -rotobuf (c:\\users\\lap1\\anaconda3\\lib\\site-packages)\n",
      "WARNING: Ignoring invalid distribution -rotobuf (c:\\users\\lap1\\anaconda3\\lib\\site-packages)\n"
     ]
    },
    {
     "name": "stdout",
     "output_type": "stream",
     "text": [
      "Requirement already satisfied: pyodbc in c:\\users\\lap1\\anaconda3\\lib\\site-packages (4.0.34)\n"
     ]
    },
    {
     "name": "stderr",
     "output_type": "stream",
     "text": [
      "WARNING: Ignoring invalid distribution -rotobuf (c:\\users\\lap1\\anaconda3\\lib\\site-packages)\n",
      "WARNING: Ignoring invalid distribution -rotobuf (c:\\users\\lap1\\anaconda3\\lib\\site-packages)\n",
      "WARNING: Ignoring invalid distribution -rotobuf (c:\\users\\lap1\\anaconda3\\lib\\site-packages)\n",
      "WARNING: Ignoring invalid distribution -rotobuf (c:\\users\\lap1\\anaconda3\\lib\\site-packages)\n",
      "WARNING: Ignoring invalid distribution -rotobuf (c:\\users\\lap1\\anaconda3\\lib\\site-packages)\n",
      "WARNING: Ignoring invalid distribution -rotobuf (c:\\users\\lap1\\anaconda3\\lib\\site-packages)\n"
     ]
    }
   ],
   "source": [
    "#install the libraries\n",
    "! pip install lifetimes\n",
    "! pip install seaborn\n",
    "! pip install dexplot\n",
    "!pip install pyodbc"
   ]
  },
  {
   "cell_type": "code",
   "execution_count": 2,
   "id": "0fdb2025",
   "metadata": {
    "_kg_hide-input": true,
    "_kg_hide-output": true,
    "execution": {
     "iopub.execute_input": "2021-12-29T10:36:41.640281Z",
     "iopub.status.busy": "2021-12-29T10:36:41.639148Z",
     "iopub.status.idle": "2021-12-29T10:36:42.604303Z",
     "shell.execute_reply": "2021-12-29T10:36:42.603674Z",
     "shell.execute_reply.started": "2021-12-29T09:35:22.606160Z"
    },
    "papermill": {
     "duration": 1.008994,
     "end_time": "2021-12-29T10:36:42.604469",
     "exception": false,
     "start_time": "2021-12-29T10:36:41.595475",
     "status": "completed"
    },
    "tags": []
   },
   "outputs": [
    {
     "name": "stderr",
     "output_type": "stream",
     "text": [
      "Enabling notebook extension jupyter-js-widgets/extension...\n",
      "      - Validating: ok\n"
     ]
    }
   ],
   "source": [
    "!jupyter nbextension enable --py widgetsnbextension\n",
    "# !jupyter labextension install @jupyter-widgets/jupyterlab-manager"
   ]
  },
  {
   "cell_type": "code",
   "execution_count": 3,
   "id": "2c9596b1",
   "metadata": {
    "_cell_guid": "b1076dfc-b9ad-4769-8c92-a6c4dae69d19",
    "_kg_hide-input": true,
    "_kg_hide-output": true,
    "_uuid": "8f2839f25d086af736a60e9eeb907d3b93b6e0e5",
    "execution": {
     "iopub.execute_input": "2021-12-29T10:36:42.685806Z",
     "iopub.status.busy": "2021-12-29T10:36:42.684875Z",
     "iopub.status.idle": "2021-12-29T10:36:43.452349Z",
     "shell.execute_reply": "2021-12-29T10:36:43.451838Z",
     "shell.execute_reply.started": "2021-12-29T09:35:23.715727Z"
    },
    "papermill": {
     "duration": 0.81093,
     "end_time": "2021-12-29T10:36:43.452489",
     "exception": false,
     "start_time": "2021-12-29T10:36:42.641559",
     "status": "completed"
    },
    "tags": []
   },
   "outputs": [],
   "source": [
    "# Importing the libraries \n",
    "import numpy as np \n",
    "import pandas as pd\n",
    "import matplotlib.pyplot as plt\n",
    "import ipywidgets as widgets\n",
    "from ipywidgets import interact, interact_manual\n",
    "import dexplot as dxp\n",
    "import seaborn as sns\n",
    "import pyodbc\n",
    "import datetime as dt\n",
    "import warnings\n",
    "warnings.filterwarnings('ignore')"
   ]
  },
  {
   "cell_type": "code",
   "execution_count": 4,
   "id": "a505deee",
   "metadata": {
    "_kg_hide-input": true,
    "_kg_hide-output": true,
    "execution": {
     "iopub.execute_input": "2021-12-29T10:36:43.531332Z",
     "iopub.status.busy": "2021-12-29T10:36:43.530753Z",
     "iopub.status.idle": "2021-12-29T10:36:43.666844Z",
     "shell.execute_reply": "2021-12-29T10:36:43.667412Z",
     "shell.execute_reply.started": "2021-12-29T09:35:24.550651Z"
    },
    "papermill": {
     "duration": 0.17655,
     "end_time": "2021-12-29T10:36:43.667592",
     "exception": false,
     "start_time": "2021-12-29T10:36:43.491042",
     "status": "completed"
    },
    "scrolled": true,
    "tags": []
   },
   "outputs": [
    {
     "data": {
      "text/html": [
       "<div>\n",
       "<style scoped>\n",
       "    .dataframe tbody tr th:only-of-type {\n",
       "        vertical-align: middle;\n",
       "    }\n",
       "\n",
       "    .dataframe tbody tr th {\n",
       "        vertical-align: top;\n",
       "    }\n",
       "\n",
       "    .dataframe thead th {\n",
       "        text-align: right;\n",
       "    }\n",
       "</style>\n",
       "<table border=\"1\" class=\"dataframe\">\n",
       "  <thead>\n",
       "    <tr style=\"text-align: right;\">\n",
       "      <th></th>\n",
       "      <th>event_time</th>\n",
       "      <th>event_type</th>\n",
       "      <th>price</th>\n",
       "      <th>user_id</th>\n",
       "      <th>user_session</th>\n",
       "      <th>campion_1</th>\n",
       "      <th>campion_2</th>\n",
       "      <th>campion_3</th>\n",
       "      <th>campion_4</th>\n",
       "      <th>campion_5</th>\n",
       "      <th>start_date</th>\n",
       "      <th>used_discount</th>\n",
       "    </tr>\n",
       "  </thead>\n",
       "  <tbody>\n",
       "    <tr>\n",
       "      <th>0</th>\n",
       "      <td>2019-10-01 00:00:00+00:00</td>\n",
       "      <td>view</td>\n",
       "      <td>35.79</td>\n",
       "      <td>541312140</td>\n",
       "      <td>72d76fde-8bb3-4e00-8c23-a032dfed738c</td>\n",
       "      <td>0</td>\n",
       "      <td>0</td>\n",
       "      <td>1</td>\n",
       "      <td>0</td>\n",
       "      <td>0</td>\n",
       "      <td>2019-10-01 00:00:00+00:00</td>\n",
       "      <td>0</td>\n",
       "    </tr>\n",
       "    <tr>\n",
       "      <th>1</th>\n",
       "      <td>2019-10-01 00:00:00+00:00</td>\n",
       "      <td>view</td>\n",
       "      <td>33.20</td>\n",
       "      <td>554748717</td>\n",
       "      <td>9333dfbd-b87a-4708-9857-6336556b0fcc</td>\n",
       "      <td>1</td>\n",
       "      <td>1</td>\n",
       "      <td>1</td>\n",
       "      <td>1</td>\n",
       "      <td>0</td>\n",
       "      <td>2019-10-01 00:00:00+00:00</td>\n",
       "      <td>0</td>\n",
       "    </tr>\n",
       "    <tr>\n",
       "      <th>2</th>\n",
       "      <td>2019-10-01 00:00:01+00:00</td>\n",
       "      <td>view</td>\n",
       "      <td>543.10</td>\n",
       "      <td>519107250</td>\n",
       "      <td>566511c2-e2e3-422b-b695-cf8e6e792ca8</td>\n",
       "      <td>1</td>\n",
       "      <td>0</td>\n",
       "      <td>1</td>\n",
       "      <td>1</td>\n",
       "      <td>0</td>\n",
       "      <td>2019-10-01 00:00:01+00:00</td>\n",
       "      <td>0</td>\n",
       "    </tr>\n",
       "    <tr>\n",
       "      <th>3</th>\n",
       "      <td>2019-10-01 00:00:01+00:00</td>\n",
       "      <td>view</td>\n",
       "      <td>251.74</td>\n",
       "      <td>550050854</td>\n",
       "      <td>7c90fc70-0e80-4590-96f3-13c02c18c713</td>\n",
       "      <td>1</td>\n",
       "      <td>0</td>\n",
       "      <td>0</td>\n",
       "      <td>0</td>\n",
       "      <td>0</td>\n",
       "      <td>2019-10-01 00:00:01+00:00</td>\n",
       "      <td>0</td>\n",
       "    </tr>\n",
       "    <tr>\n",
       "      <th>4</th>\n",
       "      <td>2019-10-01 00:00:04+00:00</td>\n",
       "      <td>view</td>\n",
       "      <td>1081.98</td>\n",
       "      <td>535871217</td>\n",
       "      <td>c6bd7419-2748-4c56-95b4-8cec9ff8b80d</td>\n",
       "      <td>1</td>\n",
       "      <td>1</td>\n",
       "      <td>0</td>\n",
       "      <td>1</td>\n",
       "      <td>0</td>\n",
       "      <td>2019-10-01 00:00:04+00:00</td>\n",
       "      <td>0</td>\n",
       "    </tr>\n",
       "    <tr>\n",
       "      <th>5</th>\n",
       "      <td>2019-10-01 00:00:05+00:00</td>\n",
       "      <td>view</td>\n",
       "      <td>908.62</td>\n",
       "      <td>512742880</td>\n",
       "      <td>0d0d91c2-c9c2-4e81-90a5-86594dec0db9</td>\n",
       "      <td>0</td>\n",
       "      <td>0</td>\n",
       "      <td>1</td>\n",
       "      <td>1</td>\n",
       "      <td>0</td>\n",
       "      <td>2019-10-01 00:00:05+00:00</td>\n",
       "      <td>0</td>\n",
       "    </tr>\n",
       "    <tr>\n",
       "      <th>6</th>\n",
       "      <td>2019-10-01 00:00:08+00:00</td>\n",
       "      <td>view</td>\n",
       "      <td>380.96</td>\n",
       "      <td>555447699</td>\n",
       "      <td>4fe811e9-91de-46da-90c3-bbd87ed3a65d</td>\n",
       "      <td>1</td>\n",
       "      <td>1</td>\n",
       "      <td>1</td>\n",
       "      <td>1</td>\n",
       "      <td>1</td>\n",
       "      <td>2019-10-01 00:00:08+00:00</td>\n",
       "      <td>0</td>\n",
       "    </tr>\n",
       "    <tr>\n",
       "      <th>7</th>\n",
       "      <td>2019-10-01 00:00:08+00:00</td>\n",
       "      <td>view</td>\n",
       "      <td>41.16</td>\n",
       "      <td>550978835</td>\n",
       "      <td>6280d577-25c8-4147-99a7-abc6048498d6</td>\n",
       "      <td>0</td>\n",
       "      <td>0</td>\n",
       "      <td>0</td>\n",
       "      <td>1</td>\n",
       "      <td>1</td>\n",
       "      <td>2019-10-01 00:00:08+00:00</td>\n",
       "      <td>0</td>\n",
       "    </tr>\n",
       "    <tr>\n",
       "      <th>8</th>\n",
       "      <td>2019-10-01 00:00:10+00:00</td>\n",
       "      <td>view</td>\n",
       "      <td>102.71</td>\n",
       "      <td>520571932</td>\n",
       "      <td>ac1cd4e5-a3ce-4224-a2d7-ff660a105880</td>\n",
       "      <td>1</td>\n",
       "      <td>0</td>\n",
       "      <td>0</td>\n",
       "      <td>0</td>\n",
       "      <td>0</td>\n",
       "      <td>2019-10-01 00:00:10+00:00</td>\n",
       "      <td>0</td>\n",
       "    </tr>\n",
       "    <tr>\n",
       "      <th>9</th>\n",
       "      <td>2019-10-01 00:00:11+00:00</td>\n",
       "      <td>view</td>\n",
       "      <td>566.01</td>\n",
       "      <td>537918940</td>\n",
       "      <td>406c46ed-90a4-4787-a43b-59a410c1a5fb</td>\n",
       "      <td>0</td>\n",
       "      <td>1</td>\n",
       "      <td>0</td>\n",
       "      <td>0</td>\n",
       "      <td>0</td>\n",
       "      <td>2019-10-01 00:00:11+00:00</td>\n",
       "      <td>0</td>\n",
       "    </tr>\n",
       "  </tbody>\n",
       "</table>\n",
       "</div>"
      ],
      "text/plain": [
       "                  event_time event_type    price    user_id  \\\n",
       "0  2019-10-01 00:00:00+00:00       view    35.79  541312140   \n",
       "1  2019-10-01 00:00:00+00:00       view    33.20  554748717   \n",
       "2  2019-10-01 00:00:01+00:00       view   543.10  519107250   \n",
       "3  2019-10-01 00:00:01+00:00       view   251.74  550050854   \n",
       "4  2019-10-01 00:00:04+00:00       view  1081.98  535871217   \n",
       "5  2019-10-01 00:00:05+00:00       view   908.62  512742880   \n",
       "6  2019-10-01 00:00:08+00:00       view   380.96  555447699   \n",
       "7  2019-10-01 00:00:08+00:00       view    41.16  550978835   \n",
       "8  2019-10-01 00:00:10+00:00       view   102.71  520571932   \n",
       "9  2019-10-01 00:00:11+00:00       view   566.01  537918940   \n",
       "\n",
       "                           user_session  campion_1  campion_2  campion_3  \\\n",
       "0  72d76fde-8bb3-4e00-8c23-a032dfed738c          0          0          1   \n",
       "1  9333dfbd-b87a-4708-9857-6336556b0fcc          1          1          1   \n",
       "2  566511c2-e2e3-422b-b695-cf8e6e792ca8          1          0          1   \n",
       "3  7c90fc70-0e80-4590-96f3-13c02c18c713          1          0          0   \n",
       "4  c6bd7419-2748-4c56-95b4-8cec9ff8b80d          1          1          0   \n",
       "5  0d0d91c2-c9c2-4e81-90a5-86594dec0db9          0          0          1   \n",
       "6  4fe811e9-91de-46da-90c3-bbd87ed3a65d          1          1          1   \n",
       "7  6280d577-25c8-4147-99a7-abc6048498d6          0          0          0   \n",
       "8  ac1cd4e5-a3ce-4224-a2d7-ff660a105880          1          0          0   \n",
       "9  406c46ed-90a4-4787-a43b-59a410c1a5fb          0          1          0   \n",
       "\n",
       "   campion_4  campion_5                 start_date  used_discount  \n",
       "0          0          0  2019-10-01 00:00:00+00:00              0  \n",
       "1          1          0  2019-10-01 00:00:00+00:00              0  \n",
       "2          1          0  2019-10-01 00:00:01+00:00              0  \n",
       "3          0          0  2019-10-01 00:00:01+00:00              0  \n",
       "4          1          0  2019-10-01 00:00:04+00:00              0  \n",
       "5          1          0  2019-10-01 00:00:05+00:00              0  \n",
       "6          1          1  2019-10-01 00:00:08+00:00              0  \n",
       "7          1          1  2019-10-01 00:00:08+00:00              0  \n",
       "8          0          0  2019-10-01 00:00:10+00:00              0  \n",
       "9          0          0  2019-10-01 00:00:11+00:00              0  "
      ]
     },
     "execution_count": 4,
     "metadata": {},
     "output_type": "execute_result"
    }
   ],
   "source": [
    "df = pd.read_csv('data_with_cmp1.csv',usecols=['event_time','event_type','price','user_id','user_session','campion_1','campion_2','campion_3','campion_4','campion_5','start_date','used_discount']) #,sep='\\t'\n",
    "\n",
    "# df.set_index('ID',inplace=True,drop=True)\n",
    "# df.index.name = None\n",
    "df.head(10)"
   ]
  },
  {
   "cell_type": "code",
   "execution_count": 5,
   "id": "94824555",
   "metadata": {},
   "outputs": [],
   "source": [
    "df['Dt_Customer'] = pd.to_datetime(df['start_date'])"
   ]
  },
  {
   "cell_type": "code",
   "execution_count": 6,
   "id": "b640d6db",
   "metadata": {},
   "outputs": [],
   "source": [
    "data=df.loc[df.event_type == 'purchase']"
   ]
  },
  {
   "cell_type": "code",
   "execution_count": 7,
   "id": "f72ae925",
   "metadata": {},
   "outputs": [
    {
     "name": "stdout",
     "output_type": "stream",
     "text": [
      "CPU times: total: 641 ms\n",
      "Wall time: 641 ms\n"
     ]
    }
   ],
   "source": [
    "%%time\n",
    "data['event_time']=pd.to_datetime(data['event_time']).dt.tz_convert(None)\n"
   ]
  },
  {
   "cell_type": "code",
   "execution_count": 8,
   "id": "d3b23fcb",
   "metadata": {},
   "outputs": [
    {
     "data": {
      "text/html": [
       "<div>\n",
       "<style scoped>\n",
       "    .dataframe tbody tr th:only-of-type {\n",
       "        vertical-align: middle;\n",
       "    }\n",
       "\n",
       "    .dataframe tbody tr th {\n",
       "        vertical-align: top;\n",
       "    }\n",
       "\n",
       "    .dataframe thead th {\n",
       "        text-align: right;\n",
       "    }\n",
       "</style>\n",
       "<table border=\"1\" class=\"dataframe\">\n",
       "  <thead>\n",
       "    <tr style=\"text-align: right;\">\n",
       "      <th></th>\n",
       "      <th>Date_order</th>\n",
       "      <th>user_id</th>\n",
       "      <th>Quantity</th>\n",
       "      <th>money_spent</th>\n",
       "      <th>campion_1</th>\n",
       "      <th>campion_2</th>\n",
       "      <th>campion_3</th>\n",
       "      <th>campion_4</th>\n",
       "      <th>campion_5</th>\n",
       "      <th>Dt_Customer</th>\n",
       "      <th>used_discount</th>\n",
       "    </tr>\n",
       "  </thead>\n",
       "  <tbody>\n",
       "    <tr>\n",
       "      <th>0</th>\n",
       "      <td>2019-10-06 11:34:30</td>\n",
       "      <td>[546521725]</td>\n",
       "      <td>1</td>\n",
       "      <td>289.52</td>\n",
       "      <td>1</td>\n",
       "      <td>1</td>\n",
       "      <td>1</td>\n",
       "      <td>0</td>\n",
       "      <td>1</td>\n",
       "      <td>2019-10-06 11:24:45+00:00</td>\n",
       "      <td>0</td>\n",
       "    </tr>\n",
       "    <tr>\n",
       "      <th>1</th>\n",
       "      <td>2019-10-25 08:39:11</td>\n",
       "      <td>[560486342]</td>\n",
       "      <td>1</td>\n",
       "      <td>171.90</td>\n",
       "      <td>0</td>\n",
       "      <td>1</td>\n",
       "      <td>1</td>\n",
       "      <td>1</td>\n",
       "      <td>1</td>\n",
       "      <td>2019-10-15 13:03:03+00:00</td>\n",
       "      <td>1</td>\n",
       "    </tr>\n",
       "    <tr>\n",
       "      <th>2</th>\n",
       "      <td>2019-10-17 13:37:59</td>\n",
       "      <td>[560744406]</td>\n",
       "      <td>2</td>\n",
       "      <td>379.78</td>\n",
       "      <td>1</td>\n",
       "      <td>1</td>\n",
       "      <td>0</td>\n",
       "      <td>1</td>\n",
       "      <td>1</td>\n",
       "      <td>2019-10-16 07:35:48+00:00</td>\n",
       "      <td>1</td>\n",
       "    </tr>\n",
       "    <tr>\n",
       "      <th>3</th>\n",
       "      <td>2019-10-15 08:09:02</td>\n",
       "      <td>[520649833]</td>\n",
       "      <td>1</td>\n",
       "      <td>90.07</td>\n",
       "      <td>1</td>\n",
       "      <td>1</td>\n",
       "      <td>0</td>\n",
       "      <td>1</td>\n",
       "      <td>0</td>\n",
       "      <td>2019-10-09 11:17:15+00:00</td>\n",
       "      <td>0</td>\n",
       "    </tr>\n",
       "    <tr>\n",
       "      <th>4</th>\n",
       "      <td>2019-10-23 14:27:08</td>\n",
       "      <td>[534210306]</td>\n",
       "      <td>2</td>\n",
       "      <td>571.92</td>\n",
       "      <td>0</td>\n",
       "      <td>0</td>\n",
       "      <td>1</td>\n",
       "      <td>1</td>\n",
       "      <td>1</td>\n",
       "      <td>2019-10-04 23:25:27+00:00</td>\n",
       "      <td>2</td>\n",
       "    </tr>\n",
       "    <tr>\n",
       "      <th>...</th>\n",
       "      <td>...</td>\n",
       "      <td>...</td>\n",
       "      <td>...</td>\n",
       "      <td>...</td>\n",
       "      <td>...</td>\n",
       "      <td>...</td>\n",
       "      <td>...</td>\n",
       "      <td>...</td>\n",
       "      <td>...</td>\n",
       "      <td>...</td>\n",
       "      <td>...</td>\n",
       "    </tr>\n",
       "    <tr>\n",
       "      <th>629555</th>\n",
       "      <td>2019-10-29 05:18:45</td>\n",
       "      <td>[565273783]</td>\n",
       "      <td>2</td>\n",
       "      <td>2715.20</td>\n",
       "      <td>1</td>\n",
       "      <td>1</td>\n",
       "      <td>1</td>\n",
       "      <td>1</td>\n",
       "      <td>0</td>\n",
       "      <td>2019-10-29 05:14:29+00:00</td>\n",
       "      <td>1</td>\n",
       "    </tr>\n",
       "    <tr>\n",
       "      <th>629556</th>\n",
       "      <td>2019-10-04 09:01:28</td>\n",
       "      <td>[548691169]</td>\n",
       "      <td>1</td>\n",
       "      <td>193.03</td>\n",
       "      <td>1</td>\n",
       "      <td>0</td>\n",
       "      <td>1</td>\n",
       "      <td>1</td>\n",
       "      <td>0</td>\n",
       "      <td>2019-10-03 08:30:35+00:00</td>\n",
       "      <td>1</td>\n",
       "    </tr>\n",
       "    <tr>\n",
       "      <th>629557</th>\n",
       "      <td>2019-10-14 09:19:57</td>\n",
       "      <td>[560049739]</td>\n",
       "      <td>1</td>\n",
       "      <td>131.64</td>\n",
       "      <td>0</td>\n",
       "      <td>1</td>\n",
       "      <td>1</td>\n",
       "      <td>0</td>\n",
       "      <td>1</td>\n",
       "      <td>2019-10-14 08:28:43+00:00</td>\n",
       "      <td>1</td>\n",
       "    </tr>\n",
       "    <tr>\n",
       "      <th>629558</th>\n",
       "      <td>2019-10-10 12:34:49</td>\n",
       "      <td>[517051774]</td>\n",
       "      <td>1</td>\n",
       "      <td>130.12</td>\n",
       "      <td>1</td>\n",
       "      <td>1</td>\n",
       "      <td>0</td>\n",
       "      <td>0</td>\n",
       "      <td>0</td>\n",
       "      <td>2019-10-10 12:33:47+00:00</td>\n",
       "      <td>0</td>\n",
       "    </tr>\n",
       "    <tr>\n",
       "      <th>629559</th>\n",
       "      <td>2019-10-04 08:53:59</td>\n",
       "      <td>[519348985]</td>\n",
       "      <td>1</td>\n",
       "      <td>360.34</td>\n",
       "      <td>1</td>\n",
       "      <td>0</td>\n",
       "      <td>0</td>\n",
       "      <td>1</td>\n",
       "      <td>0</td>\n",
       "      <td>2019-10-02 10:28:53+00:00</td>\n",
       "      <td>0</td>\n",
       "    </tr>\n",
       "  </tbody>\n",
       "</table>\n",
       "<p>629560 rows × 11 columns</p>\n",
       "</div>"
      ],
      "text/plain": [
       "                Date_order      user_id  Quantity  money_spent  campion_1  \\\n",
       "0      2019-10-06 11:34:30  [546521725]         1       289.52          1   \n",
       "1      2019-10-25 08:39:11  [560486342]         1       171.90          0   \n",
       "2      2019-10-17 13:37:59  [560744406]         2       379.78          1   \n",
       "3      2019-10-15 08:09:02  [520649833]         1        90.07          1   \n",
       "4      2019-10-23 14:27:08  [534210306]         2       571.92          0   \n",
       "...                    ...          ...       ...          ...        ...   \n",
       "629555 2019-10-29 05:18:45  [565273783]         2      2715.20          1   \n",
       "629556 2019-10-04 09:01:28  [548691169]         1       193.03          1   \n",
       "629557 2019-10-14 09:19:57  [560049739]         1       131.64          0   \n",
       "629558 2019-10-10 12:34:49  [517051774]         1       130.12          1   \n",
       "629559 2019-10-04 08:53:59  [519348985]         1       360.34          1   \n",
       "\n",
       "        campion_2  campion_3  campion_4  campion_5               Dt_Customer  \\\n",
       "0               1          1          0          1 2019-10-06 11:24:45+00:00   \n",
       "1               1          1          1          1 2019-10-15 13:03:03+00:00   \n",
       "2               1          0          1          1 2019-10-16 07:35:48+00:00   \n",
       "3               1          0          1          0 2019-10-09 11:17:15+00:00   \n",
       "4               0          1          1          1 2019-10-04 23:25:27+00:00   \n",
       "...           ...        ...        ...        ...                       ...   \n",
       "629555          1          1          1          0 2019-10-29 05:14:29+00:00   \n",
       "629556          0          1          1          0 2019-10-03 08:30:35+00:00   \n",
       "629557          1          1          0          1 2019-10-14 08:28:43+00:00   \n",
       "629558          1          0          0          0 2019-10-10 12:33:47+00:00   \n",
       "629559          0          0          1          0 2019-10-02 10:28:53+00:00   \n",
       "\n",
       "        used_discount  \n",
       "0                   0  \n",
       "1                   1  \n",
       "2                   1  \n",
       "3                   0  \n",
       "4                   2  \n",
       "...               ...  \n",
       "629555              1  \n",
       "629556              1  \n",
       "629557              1  \n",
       "629558              0  \n",
       "629559              0  \n",
       "\n",
       "[629560 rows x 11 columns]"
      ]
     },
     "execution_count": 8,
     "metadata": {},
     "output_type": "execute_result"
    }
   ],
   "source": [
    "grouped_data=data.groupby(by='user_session').agg(Date_order=('event_time','max'),\n",
    "                                        user_id=('user_id','unique'),\n",
    "                                        Quantity=('user_session','count'),\n",
    "                                        money_spent=('price','sum'),\n",
    "                                        campion_1=('campion_1','max'),\n",
    "                                        campion_2=('campion_2','max'),\n",
    "                                        campion_3=('campion_3','max'),\n",
    "                                        campion_4=('campion_4','max'),\n",
    "                                        campion_5=('campion_5','max'),\n",
    "                                        Dt_Customer=('Dt_Customer','min'),\n",
    "                                        used_discount=('used_discount','sum')).reset_index(drop=True)\n",
    "grouped_data"
   ]
  },
  {
   "cell_type": "code",
   "execution_count": 9,
   "id": "c61d1b28",
   "metadata": {},
   "outputs": [],
   "source": [
    "grouped_data['user_id'] = grouped_data['user_id'].astype('int')"
   ]
  },
  {
   "cell_type": "code",
   "execution_count": 10,
   "id": "e007683b",
   "metadata": {},
   "outputs": [
    {
     "data": {
      "text/plain": [
       "Timestamp('2019-10-31 23:59:16')"
      ]
     },
     "execution_count": 10,
     "metadata": {},
     "output_type": "execute_result"
    }
   ],
   "source": [
    "grouped_data['Date_order'].max()"
   ]
  },
  {
   "cell_type": "code",
   "execution_count": 11,
   "id": "f9fc003e",
   "metadata": {
    "scrolled": true
   },
   "outputs": [
    {
     "data": {
      "text/html": [
       "<div>\n",
       "<style scoped>\n",
       "    .dataframe tbody tr th:only-of-type {\n",
       "        vertical-align: middle;\n",
       "    }\n",
       "\n",
       "    .dataframe tbody tr th {\n",
       "        vertical-align: top;\n",
       "    }\n",
       "\n",
       "    .dataframe thead th {\n",
       "        text-align: right;\n",
       "    }\n",
       "</style>\n",
       "<table border=\"1\" class=\"dataframe\">\n",
       "  <thead>\n",
       "    <tr style=\"text-align: right;\">\n",
       "      <th></th>\n",
       "      <th>Date_order</th>\n",
       "      <th>user_id</th>\n",
       "      <th>Quantity</th>\n",
       "      <th>money_spent</th>\n",
       "      <th>campion_1</th>\n",
       "      <th>campion_2</th>\n",
       "      <th>campion_3</th>\n",
       "      <th>campion_4</th>\n",
       "      <th>campion_5</th>\n",
       "      <th>Dt_Customer</th>\n",
       "      <th>used_discount</th>\n",
       "      <th>last_purchase</th>\n",
       "    </tr>\n",
       "  </thead>\n",
       "  <tbody>\n",
       "    <tr>\n",
       "      <th>0</th>\n",
       "      <td>2019-10-06 11:34:30</td>\n",
       "      <td>546521725</td>\n",
       "      <td>1</td>\n",
       "      <td>289.52</td>\n",
       "      <td>1</td>\n",
       "      <td>1</td>\n",
       "      <td>1</td>\n",
       "      <td>0</td>\n",
       "      <td>1</td>\n",
       "      <td>2019-10-06 11:24:45+00:00</td>\n",
       "      <td>0</td>\n",
       "      <td>25.517708</td>\n",
       "    </tr>\n",
       "    <tr>\n",
       "      <th>1</th>\n",
       "      <td>2019-10-25 08:39:11</td>\n",
       "      <td>560486342</td>\n",
       "      <td>1</td>\n",
       "      <td>171.90</td>\n",
       "      <td>0</td>\n",
       "      <td>1</td>\n",
       "      <td>1</td>\n",
       "      <td>1</td>\n",
       "      <td>1</td>\n",
       "      <td>2019-10-15 13:03:03+00:00</td>\n",
       "      <td>1</td>\n",
       "      <td>6.639456</td>\n",
       "    </tr>\n",
       "    <tr>\n",
       "      <th>2</th>\n",
       "      <td>2019-10-17 13:37:59</td>\n",
       "      <td>560744406</td>\n",
       "      <td>2</td>\n",
       "      <td>379.78</td>\n",
       "      <td>1</td>\n",
       "      <td>1</td>\n",
       "      <td>0</td>\n",
       "      <td>1</td>\n",
       "      <td>1</td>\n",
       "      <td>2019-10-16 07:35:48+00:00</td>\n",
       "      <td>1</td>\n",
       "      <td>14.431956</td>\n",
       "    </tr>\n",
       "    <tr>\n",
       "      <th>3</th>\n",
       "      <td>2019-10-15 08:09:02</td>\n",
       "      <td>520649833</td>\n",
       "      <td>1</td>\n",
       "      <td>90.07</td>\n",
       "      <td>1</td>\n",
       "      <td>1</td>\n",
       "      <td>0</td>\n",
       "      <td>1</td>\n",
       "      <td>0</td>\n",
       "      <td>2019-10-09 11:17:15+00:00</td>\n",
       "      <td>0</td>\n",
       "      <td>16.660394</td>\n",
       "    </tr>\n",
       "    <tr>\n",
       "      <th>4</th>\n",
       "      <td>2019-10-23 14:27:08</td>\n",
       "      <td>534210306</td>\n",
       "      <td>2</td>\n",
       "      <td>571.92</td>\n",
       "      <td>0</td>\n",
       "      <td>0</td>\n",
       "      <td>1</td>\n",
       "      <td>1</td>\n",
       "      <td>1</td>\n",
       "      <td>2019-10-04 23:25:27+00:00</td>\n",
       "      <td>2</td>\n",
       "      <td>8.397824</td>\n",
       "    </tr>\n",
       "  </tbody>\n",
       "</table>\n",
       "</div>"
      ],
      "text/plain": [
       "           Date_order    user_id  Quantity  money_spent  campion_1  campion_2  \\\n",
       "0 2019-10-06 11:34:30  546521725         1       289.52          1          1   \n",
       "1 2019-10-25 08:39:11  560486342         1       171.90          0          1   \n",
       "2 2019-10-17 13:37:59  560744406         2       379.78          1          1   \n",
       "3 2019-10-15 08:09:02  520649833         1        90.07          1          1   \n",
       "4 2019-10-23 14:27:08  534210306         2       571.92          0          0   \n",
       "\n",
       "   campion_3  campion_4  campion_5               Dt_Customer  used_discount  \\\n",
       "0          1          0          1 2019-10-06 11:24:45+00:00              0   \n",
       "1          1          1          1 2019-10-15 13:03:03+00:00              1   \n",
       "2          0          1          1 2019-10-16 07:35:48+00:00              1   \n",
       "3          0          1          0 2019-10-09 11:17:15+00:00              0   \n",
       "4          1          1          1 2019-10-04 23:25:27+00:00              2   \n",
       "\n",
       "   last_purchase  \n",
       "0      25.517708  \n",
       "1       6.639456  \n",
       "2      14.431956  \n",
       "3      16.660394  \n",
       "4       8.397824  "
      ]
     },
     "execution_count": 11,
     "metadata": {},
     "output_type": "execute_result"
    }
   ],
   "source": [
    "study_date = dt.datetime(2019,11,1)\n",
    "grouped_data=pd.DataFrame(grouped_data)\n",
    "grouped_data['last_purchase']=study_date - grouped_data['Date_order']\n",
    "grouped_data['last_purchase'].dt.days\n",
    "grouped_data['last_purchase']=grouped_data['last_purchase'] / np.timedelta64(1, 'D')\n",
    "grouped_data.head()"
   ]
  },
  {
   "cell_type": "code",
   "execution_count": 12,
   "id": "20a08bfe",
   "metadata": {},
   "outputs": [
    {
     "data": {
      "text/html": [
       "<div>\n",
       "<style scoped>\n",
       "    .dataframe tbody tr th:only-of-type {\n",
       "        vertical-align: middle;\n",
       "    }\n",
       "\n",
       "    .dataframe tbody tr th {\n",
       "        vertical-align: top;\n",
       "    }\n",
       "\n",
       "    .dataframe thead th {\n",
       "        text-align: right;\n",
       "    }\n",
       "</style>\n",
       "<table border=\"1\" class=\"dataframe\">\n",
       "  <thead>\n",
       "    <tr style=\"text-align: right;\">\n",
       "      <th></th>\n",
       "      <th>Recency</th>\n",
       "      <th>Frequency</th>\n",
       "      <th>Monetary</th>\n",
       "    </tr>\n",
       "    <tr>\n",
       "      <th>user_id</th>\n",
       "      <th></th>\n",
       "      <th></th>\n",
       "      <th></th>\n",
       "    </tr>\n",
       "  </thead>\n",
       "  <tbody>\n",
       "    <tr>\n",
       "      <th>264649825</th>\n",
       "      <td>25.141539</td>\n",
       "      <td>2</td>\n",
       "      <td>1240.04</td>\n",
       "    </tr>\n",
       "    <tr>\n",
       "      <th>303160429</th>\n",
       "      <td>18.440637</td>\n",
       "      <td>1</td>\n",
       "      <td>340.59</td>\n",
       "    </tr>\n",
       "    <tr>\n",
       "      <th>340041246</th>\n",
       "      <td>17.384965</td>\n",
       "      <td>3</td>\n",
       "      <td>915.52</td>\n",
       "    </tr>\n",
       "    <tr>\n",
       "      <th>371877401</th>\n",
       "      <td>22.339491</td>\n",
       "      <td>1</td>\n",
       "      <td>29.89</td>\n",
       "    </tr>\n",
       "    <tr>\n",
       "      <th>384989212</th>\n",
       "      <td>13.527789</td>\n",
       "      <td>1</td>\n",
       "      <td>41.44</td>\n",
       "    </tr>\n",
       "  </tbody>\n",
       "</table>\n",
       "</div>"
      ],
      "text/plain": [
       "             Recency  Frequency  Monetary\n",
       "user_id                                  \n",
       "264649825  25.141539          2   1240.04\n",
       "303160429  18.440637          1    340.59\n",
       "340041246  17.384965          3    915.52\n",
       "371877401  22.339491          1     29.89\n",
       "384989212  13.527789          1     41.44"
      ]
     },
     "execution_count": 12,
     "metadata": {},
     "output_type": "execute_result"
    }
   ],
   "source": [
    "df_RFM= grouped_data.groupby('user_id').agg(Recency=('last_purchase','min'),\n",
    "                                 Frequency=('user_id','count'),\n",
    "                                 Monetary=('money_spent','sum'))\n",
    "df_RFM.head()"
   ]
  },
  {
   "cell_type": "markdown",
   "id": "f83dcc84",
   "metadata": {
    "papermill": {
     "duration": 0.036794,
     "end_time": "2021-12-29T10:36:43.742021",
     "exception": false,
     "start_time": "2021-12-29T10:36:43.705227",
     "status": "completed"
    },
    "tags": []
   },
   "source": [
    "# RFM Customer Segmentation "
   ]
  },
  {
   "cell_type": "markdown",
   "id": "d1b813c5",
   "metadata": {
    "execution": {
     "iopub.execute_input": "2021-10-05T13:24:49.72783Z",
     "iopub.status.busy": "2021-10-05T13:24:49.726943Z",
     "iopub.status.idle": "2021-10-05T13:24:49.73295Z",
     "shell.execute_reply": "2021-10-05T13:24:49.732029Z",
     "shell.execute_reply.started": "2021-10-05T13:24:49.727786Z"
    },
    "papermill": {
     "duration": 0.037054,
     "end_time": "2021-12-29T10:36:43.816664",
     "exception": false,
     "start_time": "2021-12-29T10:36:43.779610",
     "status": "completed"
    },
    "tags": []
   },
   "source": [
    "**Recency**: Number of days since customer's last purchase\n",
    "\n",
    "**Monetory Value**: Total monetary value the customer spent on   \n",
    "Monetory Value = MntWines+ MntFruits+ MntMeatProducts+ MntFishProducts+ MntSweetProducts+ MntGoldProds    \n",
    "\n",
    "**Frequency** = NumWebPurchases + NumCatalogPurchases + NumStorePurchases\n",
    "\n"
   ]
  },
  {
   "cell_type": "code",
   "execution_count": 13,
   "id": "50b87553",
   "metadata": {
    "execution": {
     "iopub.execute_input": "2021-12-29T10:36:43.894196Z",
     "iopub.status.busy": "2021-12-29T10:36:43.893601Z",
     "iopub.status.idle": "2021-12-29T10:36:43.903057Z",
     "shell.execute_reply": "2021-12-29T10:36:43.903529Z",
     "shell.execute_reply.started": "2021-12-29T09:35:24.769176Z"
    },
    "papermill": {
     "duration": 0.049913,
     "end_time": "2021-12-29T10:36:43.903692",
     "exception": false,
     "start_time": "2021-12-29T10:36:43.853779",
     "status": "completed"
    },
    "tags": []
   },
   "outputs": [],
   "source": [
    "# df_RFM = df[['ID','Recency']]\n",
    "# df_RFM['Monetary'] =  df['MntWines']+ df['MntFruits']+ df['MntMeatProducts']+ df['MntFishProducts']+ df['MntSweetProducts']+ df['MntGoldProds']  \n",
    "# df_RFM['Frequency'] = df['NumWebPurchases'] + df['NumCatalogPurchases'] + df['NumStorePurchases']"
   ]
  },
  {
   "cell_type": "code",
   "execution_count": 14,
   "id": "921bc519",
   "metadata": {
    "execution": {
     "iopub.execute_input": "2021-12-29T10:36:43.979307Z",
     "iopub.status.busy": "2021-12-29T10:36:43.978770Z",
     "iopub.status.idle": "2021-12-29T10:36:43.985975Z",
     "shell.execute_reply": "2021-12-29T10:36:43.986374Z",
     "shell.execute_reply.started": "2021-12-29T09:35:24.781263Z"
    },
    "papermill": {
     "duration": 0.046052,
     "end_time": "2021-12-29T10:36:43.986534",
     "exception": false,
     "start_time": "2021-12-29T10:36:43.940482",
     "status": "completed"
    },
    "tags": []
   },
   "outputs": [],
   "source": [
    "quintiles = df_RFM[['Recency', 'Frequency', 'Monetary']].quantile([.2, .4, .6, .8]).to_dict()"
   ]
  },
  {
   "cell_type": "code",
   "execution_count": 15,
   "id": "8632f7d1",
   "metadata": {
    "execution": {
     "iopub.execute_input": "2021-12-29T10:36:44.062309Z",
     "iopub.status.busy": "2021-12-29T10:36:44.061795Z",
     "iopub.status.idle": "2021-12-29T10:36:44.068012Z",
     "shell.execute_reply": "2021-12-29T10:36:44.068580Z",
     "shell.execute_reply.started": "2021-12-29T09:35:24.794707Z"
    },
    "papermill": {
     "duration": 0.045081,
     "end_time": "2021-12-29T10:36:44.068721",
     "exception": false,
     "start_time": "2021-12-29T10:36:44.023640",
     "status": "completed"
    },
    "tags": []
   },
   "outputs": [],
   "source": [
    "def r_score(x):\n",
    "    if x <= quintiles['Recency'][.2]:\n",
    "        return 5\n",
    "    elif x <= quintiles['Recency'][.4]:\n",
    "        return 4\n",
    "    elif x <= quintiles['Recency'][.6]:\n",
    "        return 3\n",
    "    elif x <= quintiles['Recency'][.8]:\n",
    "        return 2\n",
    "    else:\n",
    "        return 1\n",
    "\n",
    "def fm_score(x, c):\n",
    "    if x <= quintiles[c][.2]:\n",
    "        return 1\n",
    "    elif x <= quintiles[c][.4]:\n",
    "        return 2\n",
    "    elif x <= quintiles[c][.6]:\n",
    "        return 3\n",
    "    elif x <= quintiles[c][.8]:\n",
    "        return 4\n",
    "    else:\n",
    "        return 5  "
   ]
  },
  {
   "cell_type": "code",
   "execution_count": 16,
   "id": "0fe70c5b",
   "metadata": {
    "execution": {
     "iopub.execute_input": "2021-12-29T10:36:44.160491Z",
     "iopub.status.busy": "2021-12-29T10:36:44.159841Z",
     "iopub.status.idle": "2021-12-29T10:36:44.161321Z",
     "shell.execute_reply": "2021-12-29T10:36:44.161968Z",
     "shell.execute_reply.started": "2021-12-29T09:35:24.810315Z"
    },
    "papermill": {
     "duration": 0.057354,
     "end_time": "2021-12-29T10:36:44.162133",
     "exception": false,
     "start_time": "2021-12-29T10:36:44.104779",
     "status": "completed"
    },
    "tags": []
   },
   "outputs": [],
   "source": [
    "df_RFM['R'] = df_RFM['Recency'].apply(lambda x: r_score(x))\n",
    "df_RFM['F'] = df_RFM['Frequency'].apply(lambda x: fm_score(x, 'Frequency'))\n",
    "df_RFM['M'] = df_RFM['Monetary'].apply(lambda x: fm_score(x, 'Monetary'))"
   ]
  },
  {
   "cell_type": "code",
   "execution_count": 17,
   "id": "73b558ca",
   "metadata": {
    "execution": {
     "iopub.execute_input": "2021-12-29T10:36:44.239499Z",
     "iopub.status.busy": "2021-12-29T10:36:44.238962Z",
     "iopub.status.idle": "2021-12-29T10:36:44.246763Z",
     "shell.execute_reply": "2021-12-29T10:36:44.247272Z",
     "shell.execute_reply.started": "2021-12-29T09:35:24.831312Z"
    },
    "papermill": {
     "duration": 0.046091,
     "end_time": "2021-12-29T10:36:44.247425",
     "exception": false,
     "start_time": "2021-12-29T10:36:44.201334",
     "status": "completed"
    },
    "tags": []
   },
   "outputs": [],
   "source": [
    "df_RFM['RFM Score'] = df_RFM['R'].map(str) + df_RFM['F'].map(str) + df_RFM['M'].map(str)"
   ]
  },
  {
   "cell_type": "code",
   "execution_count": 18,
   "id": "e9b028cb",
   "metadata": {
    "execution": {
     "iopub.execute_input": "2021-12-29T10:36:44.324252Z",
     "iopub.status.busy": "2021-12-29T10:36:44.323691Z",
     "iopub.status.idle": "2021-12-29T10:36:44.383126Z",
     "shell.execute_reply": "2021-12-29T10:36:44.382576Z",
     "shell.execute_reply.started": "2021-12-29T09:35:24.847217Z"
    },
    "papermill": {
     "duration": 0.098047,
     "end_time": "2021-12-29T10:36:44.383257",
     "exception": false,
     "start_time": "2021-12-29T10:36:44.285210",
     "status": "completed"
    },
    "tags": []
   },
   "outputs": [
    {
     "data": {
      "text/html": [
       "<div>\n",
       "<style scoped>\n",
       "    .dataframe tbody tr th:only-of-type {\n",
       "        vertical-align: middle;\n",
       "    }\n",
       "\n",
       "    .dataframe tbody tr th {\n",
       "        vertical-align: top;\n",
       "    }\n",
       "\n",
       "    .dataframe thead th {\n",
       "        text-align: right;\n",
       "    }\n",
       "</style>\n",
       "<table border=\"1\" class=\"dataframe\">\n",
       "  <thead>\n",
       "    <tr style=\"text-align: right;\">\n",
       "      <th></th>\n",
       "      <th>Recency</th>\n",
       "      <th>Frequency</th>\n",
       "      <th>Monetary</th>\n",
       "      <th>R</th>\n",
       "      <th>F</th>\n",
       "      <th>M</th>\n",
       "      <th>RFM Score</th>\n",
       "      <th>Segment</th>\n",
       "    </tr>\n",
       "    <tr>\n",
       "      <th>user_id</th>\n",
       "      <th></th>\n",
       "      <th></th>\n",
       "      <th></th>\n",
       "      <th></th>\n",
       "      <th></th>\n",
       "      <th></th>\n",
       "      <th></th>\n",
       "      <th></th>\n",
       "    </tr>\n",
       "  </thead>\n",
       "  <tbody>\n",
       "    <tr>\n",
       "      <th>264649825</th>\n",
       "      <td>25.141539</td>\n",
       "      <td>2</td>\n",
       "      <td>1240.04</td>\n",
       "      <td>1</td>\n",
       "      <td>4</td>\n",
       "      <td>5</td>\n",
       "      <td>145</td>\n",
       "      <td>at risk</td>\n",
       "    </tr>\n",
       "    <tr>\n",
       "      <th>303160429</th>\n",
       "      <td>18.440637</td>\n",
       "      <td>1</td>\n",
       "      <td>340.59</td>\n",
       "      <td>2</td>\n",
       "      <td>1</td>\n",
       "      <td>4</td>\n",
       "      <td>214</td>\n",
       "      <td>hibernating</td>\n",
       "    </tr>\n",
       "    <tr>\n",
       "      <th>340041246</th>\n",
       "      <td>17.384965</td>\n",
       "      <td>3</td>\n",
       "      <td>915.52</td>\n",
       "      <td>2</td>\n",
       "      <td>5</td>\n",
       "      <td>5</td>\n",
       "      <td>255</td>\n",
       "      <td>can't loose</td>\n",
       "    </tr>\n",
       "    <tr>\n",
       "      <th>371877401</th>\n",
       "      <td>22.339491</td>\n",
       "      <td>1</td>\n",
       "      <td>29.89</td>\n",
       "      <td>2</td>\n",
       "      <td>1</td>\n",
       "      <td>1</td>\n",
       "      <td>211</td>\n",
       "      <td>hibernating</td>\n",
       "    </tr>\n",
       "    <tr>\n",
       "      <th>384989212</th>\n",
       "      <td>13.527789</td>\n",
       "      <td>1</td>\n",
       "      <td>41.44</td>\n",
       "      <td>3</td>\n",
       "      <td>1</td>\n",
       "      <td>1</td>\n",
       "      <td>311</td>\n",
       "      <td>about to sleep</td>\n",
       "    </tr>\n",
       "  </tbody>\n",
       "</table>\n",
       "</div>"
      ],
      "text/plain": [
       "             Recency  Frequency  Monetary  R  F  M RFM Score         Segment\n",
       "user_id                                                                     \n",
       "264649825  25.141539          2   1240.04  1  4  5       145         at risk\n",
       "303160429  18.440637          1    340.59  2  1  4       214     hibernating\n",
       "340041246  17.384965          3    915.52  2  5  5       255     can't loose\n",
       "371877401  22.339491          1     29.89  2  1  1       211     hibernating\n",
       "384989212  13.527789          1     41.44  3  1  1       311  about to sleep"
      ]
     },
     "execution_count": 18,
     "metadata": {},
     "output_type": "execute_result"
    }
   ],
   "source": [
    "segt_map = {\n",
    "    r'[1-2][1-2]': 'hibernating',\n",
    "    r'[1-2][3-4]': 'at risk',\n",
    "    r'[1-2]5': 'can\\'t loose',\n",
    "    r'3[1-2]': 'about to sleep',\n",
    "    r'33': 'need attention',\n",
    "    r'[3-4][4-5]': 'loyal customers',\n",
    "    r'41': 'promising',\n",
    "    r'51': 'new customers',\n",
    "    r'[4-5][2-3]': 'potential loyalists',\n",
    "    r'5[4-5]': 'champions'\n",
    "}\n",
    "\n",
    "df_RFM['Segment'] = df_RFM['R'].map(str) + df_RFM['F'].map(str)\n",
    "df_RFM['Segment'] = df_RFM['Segment'].replace(segt_map, regex=True)\n",
    "df_RFM.head()"
   ]
  },
  {
   "cell_type": "code",
   "execution_count": 19,
   "id": "b4e984cb",
   "metadata": {
    "execution": {
     "iopub.execute_input": "2021-12-29T10:36:44.479943Z",
     "iopub.status.busy": "2021-12-29T10:36:44.470177Z",
     "iopub.status.idle": "2021-12-29T10:36:45.080460Z",
     "shell.execute_reply": "2021-12-29T10:36:45.079948Z",
     "shell.execute_reply.started": "2021-12-29T09:35:24.904215Z"
    },
    "papermill": {
     "duration": 0.659721,
     "end_time": "2021-12-29T10:36:45.080593",
     "exception": false,
     "start_time": "2021-12-29T10:36:44.420872",
     "status": "completed"
    },
    "tags": []
   },
   "outputs": [
    {
     "data": {
      "image/png": "[encoded data removed]",
      "text/plain": [
       "<Figure size 1200x1000 with 3 Axes>"
      ]
     },
     "metadata": {},
     "output_type": "display_data"
    }
   ],
   "source": [
    "# Plot RFM distributions\n",
    "plt.figure(figsize=(12,10))\n",
    "# Plot distribution of R\n",
    "plt.subplot(3, 1, 1); sns.distplot(df_RFM['Recency'])\n",
    "# Plot distribution of F\n",
    "plt.subplot(3, 1, 2); sns.distplot(df_RFM['Frequency'])\n",
    "# Plot distribution of M\n",
    "plt.subplot(3, 1, 3); sns.distplot(df_RFM['Monetary'])\n",
    "# Show the plot\n",
    "plt.show()"
   ]
  },
  {
   "cell_type": "markdown",
   "id": "2b652cd9",
   "metadata": {
    "papermill": {
     "duration": 0.038537,
     "end_time": "2021-12-29T10:36:45.157081",
     "exception": false,
     "start_time": "2021-12-29T10:36:45.118544",
     "status": "completed"
    },
    "tags": []
   },
   "source": [
    "* Segment----------------------------->Description\n",
    "* Champions-------------------------->Bought recently, buy often and spend the most\n",
    "* Loyal Customers-------------------->Buy on a regular basis. Responsive to promotions.\n",
    "* Potential Loyalist------------------->Recent customers with average frequency.\n",
    "* Recent Customers------------------->Bought most recently, but not often.\n",
    "* Promising---------------------------->Recent shoppers, but haven’t spent much.\n",
    "* Customers Needing Attention------>Above average recency, frequency and monetary values. May not have bought very recently though.\n",
    "* About To Sleep---------------------->Below average recency and frequency. Will lose them if not reactivated.\n",
    "* At Risk------------------------------->Purchased often but a long time ago. Need to bring them back!\n",
    "* Can’t Lose Them-------------------->Used to purchase frequently but haven’t returned for a long time.\n",
    "* Hibernating------------------------->Last purchase was long back and low number of orders. May be lost."
   ]
  },
  {
   "cell_type": "code",
   "execution_count": 20,
   "id": "fa4820eb",
   "metadata": {
    "execution": {
     "iopub.execute_input": "2021-12-29T10:36:45.239339Z",
     "iopub.status.busy": "2021-12-29T10:36:45.238785Z",
     "iopub.status.idle": "2021-12-29T10:36:45.466128Z",
     "shell.execute_reply": "2021-12-29T10:36:45.465694Z",
     "shell.execute_reply.started": "2021-12-29T09:35:25.542858Z"
    },
    "papermill": {
     "duration": 0.269061,
     "end_time": "2021-12-29T10:36:45.466250",
     "exception": false,
     "start_time": "2021-12-29T10:36:45.197189",
     "status": "completed"
    },
    "tags": []
   },
   "outputs": [
    {
     "data": {
      "image/png": "[encoded data removed]",
      "text/plain": [
       "<Figure size 640x480 with 1 Axes>"
      ]
     },
     "metadata": {},
     "output_type": "display_data"
    }
   ],
   "source": [
    "# count the number of customers in each segment\n",
    "def customerSegmentPlot(df_RFM, title):\n",
    "    segments_counts = df_RFM.value_counts().sort_values(ascending=True)\n",
    "\n",
    "    fig, ax = plt.subplots()\n",
    "\n",
    "    bars = ax.barh(range(len(segments_counts)),\n",
    "                  segments_counts,\n",
    "                  color='silver')\n",
    "    ax.set_frame_on(False)\n",
    "    ax.tick_params(left=False,\n",
    "                   bottom=False,\n",
    "                   labelbottom=False)\n",
    "    ax.set_yticks(range(len(segments_counts)))\n",
    "    ax.set_yticklabels(segments_counts.index)\n",
    "    ax.set_title(title,fontsize=15)\n",
    "    for i, bar in enumerate(bars):\n",
    "            value = bar.get_width()\n",
    "            if segments_counts.index[i] in ['champions', 'loyal customers']:\n",
    "                bar.set_color('C1')\n",
    "            ax.text(value,\n",
    "                    bar.get_y() + bar.get_height()/2,\n",
    "                    '{:,} ({:}%)'.format(int(value),\n",
    "                                       round(value*100/2240,2)),\n",
    "                    va='center',\n",
    "                    ha='left'\n",
    "                   )\n",
    "\n",
    "    plt.show()\n",
    "    \n",
    "customerSegmentPlot(df_RFM['Segment'], title =\"Customer category\")"
   ]
  },
  {
   "cell_type": "code",
   "execution_count": 21,
   "id": "7958afca",
   "metadata": {
    "execution": {
     "iopub.execute_input": "2021-12-29T10:36:45.556091Z",
     "iopub.status.busy": "2021-12-29T10:36:45.555111Z",
     "iopub.status.idle": "2021-12-29T10:36:45.572485Z",
     "shell.execute_reply": "2021-12-29T10:36:45.572960Z",
     "shell.execute_reply.started": "2021-12-29T09:35:25.776081Z"
    },
    "papermill": {
     "duration": 0.066348,
     "end_time": "2021-12-29T10:36:45.573127",
     "exception": false,
     "start_time": "2021-12-29T10:36:45.506779",
     "status": "completed"
    },
    "tags": []
   },
   "outputs": [],
   "source": [
    "df_RFM_score = grouped_data.merge(df_RFM,how='left',on='user_id')\n"
   ]
  },
  {
   "cell_type": "code",
   "execution_count": 22,
   "id": "8a9f943f",
   "metadata": {},
   "outputs": [],
   "source": [
    "df_RFM_score['NumDealsPurchases'] =  df_RFM_score['used_discount'].mask(df_RFM_score['used_discount']>5,5)"
   ]
  },
  {
   "cell_type": "code",
   "execution_count": 23,
   "id": "159ad0e3",
   "metadata": {
    "_kg_hide-input": true,
    "_kg_hide-output": false,
    "execution": {
     "iopub.execute_input": "2021-12-29T10:36:45.745240Z",
     "iopub.status.busy": "2021-12-29T10:36:45.744300Z",
     "iopub.status.idle": "2021-12-29T10:36:45.990756Z",
     "shell.execute_reply": "2021-12-29T10:36:45.990143Z",
     "shell.execute_reply.started": "2021-12-29T09:35:25.796067Z"
    },
    "papermill": {
     "duration": 0.29193,
     "end_time": "2021-12-29T10:36:45.990891",
     "exception": false,
     "start_time": "2021-12-29T10:36:45.698961",
     "status": "completed"
    },
    "tags": []
   },
   "outputs": [
    {
     "data": {
      "text/plain": [
       "<AxesSubplot:xlabel='NumDealsPurchases', ylabel='Probability'>"
      ]
     },
     "execution_count": 23,
     "metadata": {},
     "output_type": "execute_result"
    },
    {
     "data": {
      "image/png": "[encoded data removed]",
      "text/plain": [
       "<Figure size 640x480 with 1 Axes>"
      ]
     },
     "metadata": {},
     "output_type": "display_data"
    }
   ],
   "source": [
    "sns.histplot(df_RFM_score['NumDealsPurchases'],stat=\"probability\")"
   ]
  },
  {
   "cell_type": "markdown",
   "id": "bb0560d0",
   "metadata": {
    "papermill": {
     "duration": 0.042277,
     "end_time": "2021-12-29T10:36:46.075198",
     "exception": false,
     "start_time": "2021-12-29T10:36:46.032921",
     "status": "completed"
    },
    "tags": []
   },
   "source": [
    "# Are customers who use discount more often (>3) are loyal? \n",
    "\n",
    "**Most customers who use discounts often are champions.**"
   ]
  },
  {
   "cell_type": "code",
   "execution_count": 24,
   "id": "1bd12dd2",
   "metadata": {},
   "outputs": [
    {
     "data": {
      "text/plain": [
       "(629560, 21)"
      ]
     },
     "execution_count": 24,
     "metadata": {},
     "output_type": "execute_result"
    }
   ],
   "source": [
    "df_RFM_score.shape"
   ]
  },
  {
   "cell_type": "code",
   "execution_count": 25,
   "id": "13c4f9f5",
   "metadata": {},
   "outputs": [
    {
     "data": {
      "text/plain": [
       "(629560, 12)"
      ]
     },
     "execution_count": 25,
     "metadata": {},
     "output_type": "execute_result"
    }
   ],
   "source": [
    "grouped_data.shape"
   ]
  },
  {
   "cell_type": "code",
   "execution_count": 26,
   "id": "c75dce73",
   "metadata": {
    "execution": {
     "iopub.execute_input": "2021-12-29T10:36:46.163108Z",
     "iopub.status.busy": "2021-12-29T10:36:46.162184Z",
     "iopub.status.idle": "2021-12-29T10:36:46.512763Z",
     "shell.execute_reply": "2021-12-29T10:36:46.512272Z",
     "shell.execute_reply.started": "2021-12-29T09:35:26.038643Z"
    },
    "papermill": {
     "duration": 0.396095,
     "end_time": "2021-12-29T10:36:46.512887",
     "exception": false,
     "start_time": "2021-12-29T10:36:46.116792",
     "status": "completed"
    },
    "tags": []
   },
   "outputs": [
    {
     "data": {
      "text/plain": [
       "<AxesSubplot:xlabel='Probability', ylabel='Segment'>"
      ]
     },
     "execution_count": 26,
     "metadata": {},
     "output_type": "execute_result"
    },
    {
     "data": {
      "image/png": "[encoded data removed]",
      "text/plain": [
       "<Figure size 640x480 with 1 Axes>"
      ]
     },
     "metadata": {},
     "output_type": "display_data"
    }
   ],
   "source": [
    "sns.histplot(df_RFM_score[df_RFM_score['NumDealsPurchases']>3],stat=\"probability\", y=\"Segment\")"
   ]
  },
  {
   "cell_type": "markdown",
   "id": "52c15eb3",
   "metadata": {
    "papermill": {
     "duration": 0.041302,
     "end_time": "2021-12-29T10:36:46.595793",
     "exception": false,
     "start_time": "2021-12-29T10:36:46.554491",
     "status": "completed"
    },
    "tags": []
   },
   "source": [
    "# Interactive plot to select customer category based on number of purchases\n",
    "\n",
    "Note: You have to take a copy and run this section for interactive use. "
   ]
  },
  {
   "cell_type": "code",
   "execution_count": 27,
   "id": "efe952e5",
   "metadata": {
    "execution": {
     "iopub.execute_input": "2021-12-29T10:36:46.681335Z",
     "iopub.status.busy": "2021-12-29T10:36:46.680809Z",
     "iopub.status.idle": "2021-12-29T10:36:46.941981Z",
     "shell.execute_reply": "2021-12-29T10:36:46.942389Z",
     "shell.execute_reply.started": "2021-12-29T09:35:26.398922Z"
    },
    "papermill": {
     "duration": 0.305544,
     "end_time": "2021-12-29T10:36:46.942678",
     "exception": false,
     "start_time": "2021-12-29T10:36:46.637134",
     "status": "completed"
    },
    "tags": []
   },
   "outputs": [
    {
     "name": "stdout",
     "output_type": "stream",
     "text": [
      "Select Customer number of Discount purchases:\n"
     ]
    },
    {
     "data": {
      "application/vnd.jupyter.widget-view+json": {
       "model_id": "624ca8f41c334d0da1ca5235fb635e8b",
       "version_major": 2,
       "version_minor": 0
      },
      "text/plain": [
       "interactive(children=(Dropdown(description='NumDealsPurchases', options=(0, 1, 2, 3, 4, 5), value=0), Output()…"
      ]
     },
     "metadata": {},
     "output_type": "display_data"
    },
    {
     "name": "stdout",
     "output_type": "stream",
     "text": [
      "Note: All the percentages are calculated w.r.t total, they are not relative to specific category\n"
     ]
    }
   ],
   "source": [
    "print(\"Select Customer number of Discount purchases:\")\n",
    "\n",
    "dropdown = widgets.Dropdown(options = sorted(list(set(df_RFM_score['NumDealsPurchases']))))\n",
    "\n",
    "\n",
    "@interact\n",
    "def line_plot(NumDealsPurchases = sorted(df_RFM_score['NumDealsPurchases'].unique())):\n",
    "    \n",
    "    df_RFM_discount = df_RFM_score[df_RFM_score['NumDealsPurchases'] == NumDealsPurchases]['Segment']\n",
    "    \n",
    "    customerSegmentPlot(df_RFM_discount, title =\"Customer categories for \"+str(NumDealsPurchases) +\" times discount used users\"+\n",
    "                        \"  (Customer percentage =\"+str(round(len(df_RFM_discount)*100/len(df_RFM_score),2))+\" %)\")\n",
    "    \n",
    "print(\"Note: All the percentages are calculated w.r.t total, they are not relative to specific category\")"
   ]
  },
  {
   "cell_type": "markdown",
   "id": "64f4b32b",
   "metadata": {
    "papermill": {
     "duration": 0.0426,
     "end_time": "2021-12-29T10:36:47.028331",
     "exception": false,
     "start_time": "2021-12-29T10:36:46.985731",
     "status": "completed"
    },
    "tags": []
   },
   "source": [
    "# Interactive plot to group customer category based on a specific column\n",
    "\n",
    "Note: You have to take a copy and run this section for interactive use. "
   ]
  },
  {
   "cell_type": "code",
   "execution_count": 28,
   "id": "d2797fd2",
   "metadata": {
    "execution": {
     "iopub.execute_input": "2021-12-29T10:36:47.115385Z",
     "iopub.status.busy": "2021-12-29T10:36:47.114879Z",
     "iopub.status.idle": "2021-12-29T10:36:47.400164Z",
     "shell.execute_reply": "2021-12-29T10:36:47.399433Z",
     "shell.execute_reply.started": "2021-12-29T10:22:01.114846Z"
    },
    "papermill": {
     "duration": 0.330289,
     "end_time": "2021-12-29T10:36:47.400497",
     "exception": false,
     "start_time": "2021-12-29T10:36:47.070208",
     "status": "completed"
    },
    "tags": []
   },
   "outputs": [
    {
     "name": "stdout",
     "output_type": "stream",
     "text": [
      "Select Column Name:\n"
     ]
    },
    {
     "data": {
      "application/vnd.jupyter.widget-view+json": {
       "model_id": "ef1bf8933d254357adf73f8a0fc344b4",
       "version_major": 2,
       "version_minor": 0
      },
      "text/plain": [
       "interactive(children=(Dropdown(description='col_name', options=('F', 'Frequency', 'M', 'NumDealsPurchases', 'Q…"
      ]
     },
     "metadata": {},
     "output_type": "display_data"
    }
   ],
   "source": [
    "print(\"Select Column Name:\")\n",
    "\n",
    "dropdown = widgets.Dropdown(options = sorted(list(set(df_RFM_score.columns))))\n",
    "col_= df_RFM_score.dtypes==('int64' or 'float64')\n",
    "\n",
    "@interact\n",
    "def line_plot(col_name = sorted(col_[col_==True].index)):\n",
    "    df__= df_RFM_score.groupby(['Segment']).mean().reset_index()\n",
    "    sns.barplot(x=col_name, y=\"Segment\", data=df__[['Segment',col_name]])\n",
    "    plt.title(\"Customer segment w.r.t \"+col_name)\n",
    "    print(col_name)\n",
    "    plt.show()"
   ]
  },
  {
   "cell_type": "markdown",
   "id": "46db2398",
   "metadata": {
    "execution": {
     "iopub.execute_input": "2021-10-05T12:39:40.691486Z",
     "iopub.status.busy": "2021-10-05T12:39:40.691184Z",
     "iopub.status.idle": "2021-10-05T12:39:40.699636Z",
     "shell.execute_reply": "2021-10-05T12:39:40.698765Z",
     "shell.execute_reply.started": "2021-10-05T12:39:40.691455Z"
    },
    "papermill": {
     "duration": 0.046823,
     "end_time": "2021-12-29T10:36:47.492335",
     "exception": false,
     "start_time": "2021-12-29T10:36:47.445512",
     "status": "completed"
    },
    "tags": []
   },
   "source": [
    "# Estimating Customer lifetime Value using Gamma-Gamma Model "
   ]
  },
  {
   "attachments": {
    "c4b12520-f42c-4eb9-a1b1-c8c11e4b1a92.png": {
     "image/png": "[encoded data removed]"
    }
   },
   "cell_type": "markdown",
   "id": "e68e44a4",
   "metadata": {
    "papermill": {
     "duration": 0.042754,
     "end_time": "2021-12-29T10:36:47.580850",
     "exception": false,
     "start_time": "2021-12-29T10:36:47.538096",
     "status": "completed"
    },
    "tags": []
   },
   "source": [
    "### What is Customer Value?\n",
    "\n",
    "Customer value or Customer Lifetime Value (CLV) is the total monetary value of transactions/purchases made by a customer with your business over his entire lifetime.\n",
    "\n",
    "It’s crucial to understand the intuition behind CLV. These are the main assumptions that we make:\n",
    "\n",
    "At each point in time, a customer can decide to buy\n",
    "\n",
    "Probability of buying is unique for each user and it depends on the historical behaviour\n",
    "\n",
    "Each customer can churn after a transaction\n",
    "\n",
    "Probability of churn is unique for each user and it depends on the historical behaviour\n",
    "\n",
    "#### **Customer Lifetime value** = (predicted number of transactions in the next quaterly/yearly) * (Expected average sales from that customer)\n",
    "\n",
    "![customer-lifetime-value.png](attachment:c4b12520-f42c-4eb9-a1b1-c8c11e4b1a92.png)\n",
    "\n",
    "#### Buy Till You Die:\n",
    "    \n",
    "BTYD is built on 4 metrics which are closely related to the ones used for RFM segmentation:\n",
    "\n",
    "**Recency:** The age of the customer when he made its last purchase (Last customer purchase date - first customer purchase date)\n",
    "    \n",
    "**T:** Customer's age. (how long before the analysis date the first purchase was made)\n",
    "    \n",
    "**Frequency:** The number of repeated purchases the customer made after his first date of first purchase\n",
    "    \n",
    "**Average Monetary:** The average amount spent by a customer\n",
    "    \n",
    "#### BG/NBD and Gamma-Gamma models in this project.\n",
    "\n",
    "**BG/NBD:** It can be used to predict repeat visits by customers. In addition, the data allows us to understand whether the customer will come again.\n",
    "\n",
    "**Gamma-Gamma:** It predicts how much money the customer will earn on average in a certain period of time.\n",
    "\n",
    "#### Lifetimes\n",
    "\n",
    "It is a valuable tool for businesses aiming to analyze and understand user behavior based on two key assumptions.\n",
    "\n",
    "Firstly, it assumes that users are considered \"alive\" when they actively engage with a product or service, reflecting their ongoing interactions.\n",
    "\n",
    "Secondly, it acknowledges that users under study may \"die\" or become inactive after a certain period of time, providing a framework for modeling customer churn and attrition. "
   ]
  },
  {
   "cell_type": "code",
   "execution_count": 29,
   "id": "1c27fc34",
   "metadata": {
    "execution": {
     "iopub.execute_input": "2021-12-29T10:36:47.673841Z",
     "iopub.status.busy": "2021-12-29T10:36:47.672945Z",
     "iopub.status.idle": "2021-12-29T10:36:47.677026Z",
     "shell.execute_reply": "2021-12-29T10:36:47.677623Z",
     "shell.execute_reply.started": "2021-12-29T09:35:26.959407Z"
    },
    "papermill": {
     "duration": 0.054111,
     "end_time": "2021-12-29T10:36:47.677800",
     "exception": false,
     "start_time": "2021-12-29T10:36:47.623689",
     "status": "completed"
    },
    "tags": []
   },
   "outputs": [],
   "source": [
    "# Calculate the entire transation period of customers\n",
    "df_RFM_score['T'] = ( df_RFM_score['Dt_Customer'].max()- df_RFM_score['Dt_Customer']).dt.days +90"
   ]
  },
  {
   "cell_type": "markdown",
   "id": "bad122cb",
   "metadata": {},
   "source": [
    "## Modelling & EvaluationPermalink\n",
    "\n",
    "#### Illustration of CustomerLifeTimeValue function\n",
    "\n",
    "The modelling & evaluation process is going to be the following:\n",
    "\n",
    "#### BG/NBD model\n",
    "\n",
    "Fit BG/NBD model for frequency prediction by BetaGeoFitter class in Lifetimes package. \n",
    "\n",
    "\n",
    "**model.conditional_probability_alive():** This method computes the probability that a customer with history (frequency, recency, T) is currently alive.\n",
    "\n",
    "Evaluate BG/NBD model for frequency prediction\n",
    "\n",
    "**model.conditional_expected_number_of_purchases_up_to_time():** Calculate the expected number of repeat purchases up to time t for a randomly chosen individual from the population (or the whole population), given they have purchase history (frequency, recency, T).\n",
    "\n",
    "The expected future transactions is predicted,Gamma-Gamma model is used to predict the future monetary value of each transaction.\n",
    "\n",
    "#### Gamma-Gamma model \n",
    "\n",
    "Fit Gamma-Gamma model by GammaGammaFitter in Lifetimes package for monetary value prediction.\n",
    "\n",
    "**model.conditional_expected_average_profit():** This method computes the conditional expectation of the average profit per transaction for a group of one or more customers.\n",
    "\n",
    "**model.customer_lifetime_value():** This method computes the average lifetime value of a group of one or more customers. This method takes in the BG/NBD model and the prediction horizon as a parameter to calculate the CLV.\n",
    "\n",
    "\n",
    "\n",
    "#### Calculations\n",
    "\n",
    "1)Calculate the **customer lifetime value** directly using the method from the lifetime’s package.\n",
    "\n",
    "2)Calculate the CLV manually from the predicted number of future transactions (pred_num_txn) and expected average sales per transaction (exp_avg_sales).\n",
    "\n",
    "3)combine 2 models into CLV model and compare to baseline\n"
   ]
  },
  {
   "cell_type": "code",
   "execution_count": 30,
   "id": "4e46b6da",
   "metadata": {
    "execution": {
     "iopub.execute_input": "2021-12-29T10:36:47.776045Z",
     "iopub.status.busy": "2021-12-29T10:36:47.775185Z",
     "iopub.status.idle": "2021-12-29T10:36:47.779286Z",
     "shell.execute_reply": "2021-12-29T10:36:47.779827Z",
     "shell.execute_reply.started": "2021-12-29T09:35:26.968661Z"
    },
    "papermill": {
     "duration": 0.05754,
     "end_time": "2021-12-29T10:36:47.779984",
     "exception": false,
     "start_time": "2021-12-29T10:36:47.722444",
     "status": "completed"
    },
    "tags": []
   },
   "outputs": [],
   "source": [
    "def CustomerLifeTimeValue(df,penalizer_coef=0.01,months_to_predict=3, discount_rate=0.01):\n",
    "    ''' \n",
    "    \n",
    "    args = df must have Frequency(count), Recency(days), Monetary($) and T (Transation period in days)\n",
    "    output = [['ID','predicted_clv','manual_predicted_clv']]\n",
    "    '''\n",
    "\n",
    "# Discount rate converts future cash flows (that is revenue/profits) into today’s money for the firm\n",
    "# discount_rate=0.01 ----> monthly discount rate ~ 12.7% annually  \n",
    "    import lifetimes\n",
    "    import pandas as pd\n",
    "    import numpy as np\n",
    "    #       Filter out customer those who have never visited again \n",
    "    df = df[df['Frequency']>=1]\n",
    "   #BG/NBD model is available as BetaGeoFitter class in Lifetimes package.\n",
    "    bgf = lifetimes.BetaGeoFitter(penalizer_coef=penalizer_coef)\n",
    "    bgf.fit(df['Frequency'], df['Recency'], df['T'])\n",
    "\n",
    "    # Compute the customer alive probability\n",
    "    df['probability_alive'] = bgf.conditional_probability_alive(df['Frequency'], df['Recency'], df['T'])\n",
    "\n",
    "    # Predict future transaction for the next 90 (months_to_predict*30) days based on historical data\n",
    "    transaction_date = months_to_predict*30\n",
    "    df['pred_num_txn'] = round(bgf.conditional_expected_number_of_purchases_up_to_time(transaction_date, \n",
    "                                                                                       df['Frequency'],\n",
    "                                                                                       df['Recency'],\n",
    "                                                                                       df['T']),2)\n",
    "\n",
    "\n",
    "    df_repeated_customers = df.copy()\n",
    "    # Modeling the monetary value using Gamma-Gamma Model from Lifetimes python library \n",
    "    ggf = lifetimes.GammaGammaFitter(penalizer_coef=penalizer_coef)\n",
    "    ggf.fit(df_repeated_customers['Frequency'],\n",
    "     df_repeated_customers['Monetary'])\n",
    "\n",
    "    df_repeated_customers['exp_avg_sales'] = ggf.conditional_expected_average_profit(df_repeated_customers['Frequency'],\n",
    "                                     df_repeated_customers['Monetary'])\n",
    "\n",
    "    # predicted_clv --> predicted_annual_lifetime_value\n",
    "    # Predicting Customer Lifetime Value for the next 3 months\n",
    "    df_repeated_customers['predicted_clv'] = ggf.customer_lifetime_value(bgf,\n",
    "                                     df_repeated_customers['Frequency'],\n",
    "                                     df_repeated_customers['Recency'],\n",
    "                                     df_repeated_customers['T'],\n",
    "                                     df_repeated_customers['Monetary'],\n",
    "                                     time=months_to_predict,     # lifetime in months\n",
    "                                     freq='D',   # frequency in which the data is present(transaction_date)      \n",
    "                                     discount_rate=discount_rate) # discount rate\n",
    "\n",
    "    # Manual predict clv = Predicted no. of transactions * Expected avg sales \n",
    "    df_repeated_customers['manual_predicted_clv'] = (df_repeated_customers['pred_num_txn'] *\n",
    "                                                     df_repeated_customers['exp_avg_sales'])\n",
    "\n",
    "#     if the clv is nan impute with mean\n",
    "#     df_repeated_customers['predicted_clv'].fillna(df_repeated_customers['predicted_clv'].mean(), inplace=True)\n",
    "#     df_repeated_customers['manual_predicted_clv'].fillna(df_repeated_customers['manual_predicted_clv'].mean(), inplace=True)\n",
    "    df_repeated_customers = df_repeated_customers.round(2)\n",
    "\n",
    "    return df_repeated_customers[['user_id','predicted_clv','manual_predicted_clv']]"
   ]
  },
  {
   "cell_type": "markdown",
   "id": "679f7c80",
   "metadata": {
    "papermill": {
     "duration": 0.043533,
     "end_time": "2021-12-29T10:36:47.866264",
     "exception": false,
     "start_time": "2021-12-29T10:36:47.822731",
     "status": "completed"
    },
    "tags": []
   },
   "source": [
    "**Predict Customer lifetime value for the next Quaterly (3 months)**"
   ]
  },
  {
   "cell_type": "code",
   "execution_count": 31,
   "id": "591fcef5",
   "metadata": {
    "execution": {
     "iopub.execute_input": "2021-12-29T10:36:47.960183Z",
     "iopub.status.busy": "2021-12-29T10:36:47.959233Z",
     "iopub.status.idle": "2021-12-29T10:36:48.309794Z",
     "shell.execute_reply": "2021-12-29T10:36:48.310572Z",
     "shell.execute_reply.started": "2021-12-29T10:28:45.038802Z"
    },
    "papermill": {
     "duration": 0.398316,
     "end_time": "2021-12-29T10:36:48.310814",
     "exception": false,
     "start_time": "2021-12-29T10:36:47.912498",
     "status": "completed"
    },
    "tags": []
   },
   "outputs": [],
   "source": [
    "clv = CustomerLifeTimeValue(df_RFM_score,months_to_predict=3)"
   ]
  },
  {
   "cell_type": "markdown",
   "id": "2cc4d0b7",
   "metadata": {
    "papermill": {
     "duration": 0.043641,
     "end_time": "2021-12-29T10:36:48.407405",
     "exception": false,
     "start_time": "2021-12-29T10:36:48.363764",
     "status": "completed"
    },
    "tags": []
   },
   "source": [
    "**Quantile customers into two category**\n",
    "* Profitable and \n",
    "* Non-Profitable"
   ]
  },
  {
   "cell_type": "code",
   "execution_count": 32,
   "id": "a3917484",
   "metadata": {
    "execution": {
     "iopub.execute_input": "2021-12-29T10:36:48.500201Z",
     "iopub.status.busy": "2021-12-29T10:36:48.499640Z",
     "iopub.status.idle": "2021-12-29T10:36:48.505797Z",
     "shell.execute_reply": "2021-12-29T10:36:48.506260Z",
     "shell.execute_reply.started": "2021-12-29T10:28:45.808036Z"
    },
    "papermill": {
     "duration": 0.057222,
     "end_time": "2021-12-29T10:36:48.506402",
     "exception": false,
     "start_time": "2021-12-29T10:36:48.449180",
     "status": "completed"
    },
    "tags": []
   },
   "outputs": [],
   "source": [
    "clv['clv_label'] = clv['predicted_clv']>0\n",
    "clv['clv_label'] = clv['clv_label'].map({True: 'profitable', False: 'Non-profitable'})\n",
    "\n",
    "# LeftMerge CLV on main df\n",
    "df_RFM_score = df_RFM_score.merge(clv,how='left', on = 'user_id')"
   ]
  },
  {
   "cell_type": "code",
   "execution_count": 33,
   "id": "36ec796a",
   "metadata": {},
   "outputs": [
    {
     "data": {
      "text/html": [
       "<div>\n",
       "<style scoped>\n",
       "    .dataframe tbody tr th:only-of-type {\n",
       "        vertical-align: middle;\n",
       "    }\n",
       "\n",
       "    .dataframe tbody tr th {\n",
       "        vertical-align: top;\n",
       "    }\n",
       "\n",
       "    .dataframe thead th {\n",
       "        text-align: right;\n",
       "    }\n",
       "</style>\n",
       "<table border=\"1\" class=\"dataframe\">\n",
       "  <thead>\n",
       "    <tr style=\"text-align: right;\">\n",
       "      <th></th>\n",
       "      <th>Date_order</th>\n",
       "      <th>user_id</th>\n",
       "      <th>Quantity</th>\n",
       "      <th>money_spent</th>\n",
       "      <th>campion_1</th>\n",
       "      <th>campion_2</th>\n",
       "      <th>campion_3</th>\n",
       "      <th>campion_4</th>\n",
       "      <th>campion_5</th>\n",
       "      <th>Dt_Customer</th>\n",
       "      <th>...</th>\n",
       "      <th>R</th>\n",
       "      <th>F</th>\n",
       "      <th>M</th>\n",
       "      <th>RFM Score</th>\n",
       "      <th>Segment</th>\n",
       "      <th>NumDealsPurchases</th>\n",
       "      <th>T</th>\n",
       "      <th>predicted_clv</th>\n",
       "      <th>manual_predicted_clv</th>\n",
       "      <th>clv_label</th>\n",
       "    </tr>\n",
       "  </thead>\n",
       "  <tbody>\n",
       "    <tr>\n",
       "      <th>0</th>\n",
       "      <td>2019-10-06 11:34:30</td>\n",
       "      <td>546521725</td>\n",
       "      <td>1</td>\n",
       "      <td>289.52</td>\n",
       "      <td>1</td>\n",
       "      <td>1</td>\n",
       "      <td>1</td>\n",
       "      <td>0</td>\n",
       "      <td>1</td>\n",
       "      <td>2019-10-06 11:24:45+00:00</td>\n",
       "      <td>...</td>\n",
       "      <td>4</td>\n",
       "      <td>5</td>\n",
       "      <td>5</td>\n",
       "      <td>455</td>\n",
       "      <td>loyal customers</td>\n",
       "      <td>0</td>\n",
       "      <td>115</td>\n",
       "      <td>0.00</td>\n",
       "      <td>0.00</td>\n",
       "      <td>Non-profitable</td>\n",
       "    </tr>\n",
       "    <tr>\n",
       "      <th>1</th>\n",
       "      <td>2019-10-06 11:34:30</td>\n",
       "      <td>546521725</td>\n",
       "      <td>1</td>\n",
       "      <td>289.52</td>\n",
       "      <td>1</td>\n",
       "      <td>1</td>\n",
       "      <td>1</td>\n",
       "      <td>0</td>\n",
       "      <td>1</td>\n",
       "      <td>2019-10-06 11:24:45+00:00</td>\n",
       "      <td>...</td>\n",
       "      <td>4</td>\n",
       "      <td>5</td>\n",
       "      <td>5</td>\n",
       "      <td>455</td>\n",
       "      <td>loyal customers</td>\n",
       "      <td>0</td>\n",
       "      <td>115</td>\n",
       "      <td>0.00</td>\n",
       "      <td>0.00</td>\n",
       "      <td>Non-profitable</td>\n",
       "    </tr>\n",
       "    <tr>\n",
       "      <th>2</th>\n",
       "      <td>2019-10-06 11:34:30</td>\n",
       "      <td>546521725</td>\n",
       "      <td>1</td>\n",
       "      <td>289.52</td>\n",
       "      <td>1</td>\n",
       "      <td>1</td>\n",
       "      <td>1</td>\n",
       "      <td>0</td>\n",
       "      <td>1</td>\n",
       "      <td>2019-10-06 11:24:45+00:00</td>\n",
       "      <td>...</td>\n",
       "      <td>4</td>\n",
       "      <td>5</td>\n",
       "      <td>5</td>\n",
       "      <td>455</td>\n",
       "      <td>loyal customers</td>\n",
       "      <td>0</td>\n",
       "      <td>115</td>\n",
       "      <td>0.00</td>\n",
       "      <td>0.00</td>\n",
       "      <td>Non-profitable</td>\n",
       "    </tr>\n",
       "    <tr>\n",
       "      <th>3</th>\n",
       "      <td>2019-10-06 11:34:30</td>\n",
       "      <td>546521725</td>\n",
       "      <td>1</td>\n",
       "      <td>289.52</td>\n",
       "      <td>1</td>\n",
       "      <td>1</td>\n",
       "      <td>1</td>\n",
       "      <td>0</td>\n",
       "      <td>1</td>\n",
       "      <td>2019-10-06 11:24:45+00:00</td>\n",
       "      <td>...</td>\n",
       "      <td>4</td>\n",
       "      <td>5</td>\n",
       "      <td>5</td>\n",
       "      <td>455</td>\n",
       "      <td>loyal customers</td>\n",
       "      <td>0</td>\n",
       "      <td>115</td>\n",
       "      <td>0.00</td>\n",
       "      <td>0.00</td>\n",
       "      <td>Non-profitable</td>\n",
       "    </tr>\n",
       "    <tr>\n",
       "      <th>4</th>\n",
       "      <td>2019-10-06 11:34:30</td>\n",
       "      <td>546521725</td>\n",
       "      <td>1</td>\n",
       "      <td>289.52</td>\n",
       "      <td>1</td>\n",
       "      <td>1</td>\n",
       "      <td>1</td>\n",
       "      <td>0</td>\n",
       "      <td>1</td>\n",
       "      <td>2019-10-06 11:24:45+00:00</td>\n",
       "      <td>...</td>\n",
       "      <td>4</td>\n",
       "      <td>5</td>\n",
       "      <td>5</td>\n",
       "      <td>455</td>\n",
       "      <td>loyal customers</td>\n",
       "      <td>0</td>\n",
       "      <td>115</td>\n",
       "      <td>0.00</td>\n",
       "      <td>0.00</td>\n",
       "      <td>Non-profitable</td>\n",
       "    </tr>\n",
       "    <tr>\n",
       "      <th>...</th>\n",
       "      <td>...</td>\n",
       "      <td>...</td>\n",
       "      <td>...</td>\n",
       "      <td>...</td>\n",
       "      <td>...</td>\n",
       "      <td>...</td>\n",
       "      <td>...</td>\n",
       "      <td>...</td>\n",
       "      <td>...</td>\n",
       "      <td>...</td>\n",
       "      <td>...</td>\n",
       "      <td>...</td>\n",
       "      <td>...</td>\n",
       "      <td>...</td>\n",
       "      <td>...</td>\n",
       "      <td>...</td>\n",
       "      <td>...</td>\n",
       "      <td>...</td>\n",
       "      <td>...</td>\n",
       "      <td>...</td>\n",
       "      <td>...</td>\n",
       "    </tr>\n",
       "    <tr>\n",
       "      <th>3204243</th>\n",
       "      <td>2019-10-14 09:19:57</td>\n",
       "      <td>560049739</td>\n",
       "      <td>1</td>\n",
       "      <td>131.64</td>\n",
       "      <td>0</td>\n",
       "      <td>1</td>\n",
       "      <td>1</td>\n",
       "      <td>0</td>\n",
       "      <td>1</td>\n",
       "      <td>2019-10-14 08:28:43+00:00</td>\n",
       "      <td>...</td>\n",
       "      <td>5</td>\n",
       "      <td>5</td>\n",
       "      <td>5</td>\n",
       "      <td>555</td>\n",
       "      <td>champions</td>\n",
       "      <td>1</td>\n",
       "      <td>107</td>\n",
       "      <td>0.00</td>\n",
       "      <td>0.00</td>\n",
       "      <td>Non-profitable</td>\n",
       "    </tr>\n",
       "    <tr>\n",
       "      <th>3204244</th>\n",
       "      <td>2019-10-10 12:34:49</td>\n",
       "      <td>517051774</td>\n",
       "      <td>1</td>\n",
       "      <td>130.12</td>\n",
       "      <td>1</td>\n",
       "      <td>1</td>\n",
       "      <td>0</td>\n",
       "      <td>0</td>\n",
       "      <td>0</td>\n",
       "      <td>2019-10-10 12:33:47+00:00</td>\n",
       "      <td>...</td>\n",
       "      <td>2</td>\n",
       "      <td>1</td>\n",
       "      <td>2</td>\n",
       "      <td>212</td>\n",
       "      <td>hibernating</td>\n",
       "      <td>0</td>\n",
       "      <td>111</td>\n",
       "      <td>22.44</td>\n",
       "      <td>22.37</td>\n",
       "      <td>profitable</td>\n",
       "    </tr>\n",
       "    <tr>\n",
       "      <th>3204245</th>\n",
       "      <td>2019-10-04 08:53:59</td>\n",
       "      <td>519348985</td>\n",
       "      <td>1</td>\n",
       "      <td>360.34</td>\n",
       "      <td>1</td>\n",
       "      <td>0</td>\n",
       "      <td>0</td>\n",
       "      <td>1</td>\n",
       "      <td>0</td>\n",
       "      <td>2019-10-02 10:28:53+00:00</td>\n",
       "      <td>...</td>\n",
       "      <td>1</td>\n",
       "      <td>5</td>\n",
       "      <td>5</td>\n",
       "      <td>155</td>\n",
       "      <td>can't loose</td>\n",
       "      <td>0</td>\n",
       "      <td>119</td>\n",
       "      <td>71.54</td>\n",
       "      <td>77.37</td>\n",
       "      <td>profitable</td>\n",
       "    </tr>\n",
       "    <tr>\n",
       "      <th>3204246</th>\n",
       "      <td>2019-10-04 08:53:59</td>\n",
       "      <td>519348985</td>\n",
       "      <td>1</td>\n",
       "      <td>360.34</td>\n",
       "      <td>1</td>\n",
       "      <td>0</td>\n",
       "      <td>0</td>\n",
       "      <td>1</td>\n",
       "      <td>0</td>\n",
       "      <td>2019-10-02 10:28:53+00:00</td>\n",
       "      <td>...</td>\n",
       "      <td>1</td>\n",
       "      <td>5</td>\n",
       "      <td>5</td>\n",
       "      <td>155</td>\n",
       "      <td>can't loose</td>\n",
       "      <td>0</td>\n",
       "      <td>119</td>\n",
       "      <td>71.54</td>\n",
       "      <td>77.37</td>\n",
       "      <td>profitable</td>\n",
       "    </tr>\n",
       "    <tr>\n",
       "      <th>3204247</th>\n",
       "      <td>2019-10-04 08:53:59</td>\n",
       "      <td>519348985</td>\n",
       "      <td>1</td>\n",
       "      <td>360.34</td>\n",
       "      <td>1</td>\n",
       "      <td>0</td>\n",
       "      <td>0</td>\n",
       "      <td>1</td>\n",
       "      <td>0</td>\n",
       "      <td>2019-10-02 10:28:53+00:00</td>\n",
       "      <td>...</td>\n",
       "      <td>1</td>\n",
       "      <td>5</td>\n",
       "      <td>5</td>\n",
       "      <td>155</td>\n",
       "      <td>can't loose</td>\n",
       "      <td>0</td>\n",
       "      <td>119</td>\n",
       "      <td>71.54</td>\n",
       "      <td>77.37</td>\n",
       "      <td>profitable</td>\n",
       "    </tr>\n",
       "  </tbody>\n",
       "</table>\n",
       "<p>3204248 rows × 25 columns</p>\n",
       "</div>"
      ],
      "text/plain": [
       "                 Date_order    user_id  Quantity  money_spent  campion_1  \\\n",
       "0       2019-10-06 11:34:30  546521725         1       289.52          1   \n",
       "1       2019-10-06 11:34:30  546521725         1       289.52          1   \n",
       "2       2019-10-06 11:34:30  546521725         1       289.52          1   \n",
       "3       2019-10-06 11:34:30  546521725         1       289.52          1   \n",
       "4       2019-10-06 11:34:30  546521725         1       289.52          1   \n",
       "...                     ...        ...       ...          ...        ...   \n",
       "3204243 2019-10-14 09:19:57  560049739         1       131.64          0   \n",
       "3204244 2019-10-10 12:34:49  517051774         1       130.12          1   \n",
       "3204245 2019-10-04 08:53:59  519348985         1       360.34          1   \n",
       "3204246 2019-10-04 08:53:59  519348985         1       360.34          1   \n",
       "3204247 2019-10-04 08:53:59  519348985         1       360.34          1   \n",
       "\n",
       "         campion_2  campion_3  campion_4  campion_5               Dt_Customer  \\\n",
       "0                1          1          0          1 2019-10-06 11:24:45+00:00   \n",
       "1                1          1          0          1 2019-10-06 11:24:45+00:00   \n",
       "2                1          1          0          1 2019-10-06 11:24:45+00:00   \n",
       "3                1          1          0          1 2019-10-06 11:24:45+00:00   \n",
       "4                1          1          0          1 2019-10-06 11:24:45+00:00   \n",
       "...            ...        ...        ...        ...                       ...   \n",
       "3204243          1          1          0          1 2019-10-14 08:28:43+00:00   \n",
       "3204244          1          0          0          0 2019-10-10 12:33:47+00:00   \n",
       "3204245          0          0          1          0 2019-10-02 10:28:53+00:00   \n",
       "3204246          0          0          1          0 2019-10-02 10:28:53+00:00   \n",
       "3204247          0          0          1          0 2019-10-02 10:28:53+00:00   \n",
       "\n",
       "         ...  R  F  M  RFM Score          Segment  NumDealsPurchases    T  \\\n",
       "0        ...  4  5  5        455  loyal customers                  0  115   \n",
       "1        ...  4  5  5        455  loyal customers                  0  115   \n",
       "2        ...  4  5  5        455  loyal customers                  0  115   \n",
       "3        ...  4  5  5        455  loyal customers                  0  115   \n",
       "4        ...  4  5  5        455  loyal customers                  0  115   \n",
       "...      ... .. .. ..        ...              ...                ...  ...   \n",
       "3204243  ...  5  5  5        555        champions                  1  107   \n",
       "3204244  ...  2  1  2        212      hibernating                  0  111   \n",
       "3204245  ...  1  5  5        155      can't loose                  0  119   \n",
       "3204246  ...  1  5  5        155      can't loose                  0  119   \n",
       "3204247  ...  1  5  5        155      can't loose                  0  119   \n",
       "\n",
       "         predicted_clv manual_predicted_clv       clv_label  \n",
       "0                 0.00                 0.00  Non-profitable  \n",
       "1                 0.00                 0.00  Non-profitable  \n",
       "2                 0.00                 0.00  Non-profitable  \n",
       "3                 0.00                 0.00  Non-profitable  \n",
       "4                 0.00                 0.00  Non-profitable  \n",
       "...                ...                  ...             ...  \n",
       "3204243           0.00                 0.00  Non-profitable  \n",
       "3204244          22.44                22.37      profitable  \n",
       "3204245          71.54                77.37      profitable  \n",
       "3204246          71.54                77.37      profitable  \n",
       "3204247          71.54                77.37      profitable  \n",
       "\n",
       "[3204248 rows x 25 columns]"
      ]
     },
     "execution_count": 33,
     "metadata": {},
     "output_type": "execute_result"
    }
   ],
   "source": [
    "df_RFM_score"
   ]
  },
  {
   "cell_type": "code",
   "execution_count": 34,
   "id": "f2629992",
   "metadata": {
    "execution": {
     "iopub.execute_input": "2021-12-29T10:36:48.688377Z",
     "iopub.status.busy": "2021-12-29T10:36:48.687765Z",
     "iopub.status.idle": "2021-12-29T10:36:48.912698Z",
     "shell.execute_reply": "2021-12-29T10:36:48.913555Z",
     "shell.execute_reply.started": "2021-12-29T10:28:48.088103Z"
    },
    "papermill": {
     "duration": 0.278334,
     "end_time": "2021-12-29T10:36:48.913809",
     "exception": false,
     "start_time": "2021-12-29T10:36:48.635475",
     "status": "completed"
    },
    "tags": []
   },
   "outputs": [
    {
     "data": {
      "text/plain": [
       "Text(0.5, 1.0, 'Percentage of profitable and non profitable customers')"
      ]
     },
     "execution_count": 34,
     "metadata": {},
     "output_type": "execute_result"
    },
    {
     "data": {
      "image/png": "[encoded data removed]",
      "text/plain": [
       "<Figure size 640x480 with 1 Axes>"
      ]
     },
     "metadata": {},
     "output_type": "display_data"
    }
   ],
   "source": [
    "sns.histplot(clv['clv_label'],stat=\"probability\")\n",
    "plt.title(\"Percentage of profitable and non profitable customers\")"
   ]
  },
  {
   "cell_type": "markdown",
   "id": "8e36f974",
   "metadata": {},
   "source": [
    "**We observe that the majority clv scores are profitable**"
   ]
  },
  {
   "cell_type": "markdown",
   "id": "f93d0d0e",
   "metadata": {
    "papermill": {
     "duration": 0.049989,
     "end_time": "2021-12-29T10:36:49.021814",
     "exception": false,
     "start_time": "2021-12-29T10:36:48.971825",
     "status": "completed"
    },
    "tags": []
   },
   "source": [
    "# Interactive plot to groupby Profitable and Non-Profitable Customers based on a specific attribute \n",
    "Note: You have to take a copy and run this section for interactive use. "
   ]
  },
  {
   "cell_type": "code",
   "execution_count": 35,
   "id": "40090fb3",
   "metadata": {
    "execution": {
     "iopub.execute_input": "2021-12-29T10:36:49.142767Z",
     "iopub.status.busy": "2021-12-29T10:36:49.141734Z",
     "iopub.status.idle": "2021-12-29T10:36:49.353652Z",
     "shell.execute_reply": "2021-12-29T10:36:49.352649Z",
     "shell.execute_reply.started": "2021-12-29T10:28:52.128379Z"
    },
    "papermill": {
     "duration": 0.283035,
     "end_time": "2021-12-29T10:36:49.353859",
     "exception": false,
     "start_time": "2021-12-29T10:36:49.070824",
     "status": "completed"
    },
    "tags": []
   },
   "outputs": [
    {
     "name": "stdout",
     "output_type": "stream",
     "text": [
      "Select Column Name:\n"
     ]
    },
    {
     "data": {
      "application/vnd.jupyter.widget-view+json": {
       "model_id": "7c95cb9bd9c94eba8882abacabf40647",
       "version_major": 2,
       "version_minor": 0
      },
      "text/plain": [
       "interactive(children=(Dropdown(description='col_name', options=('F', 'Frequency', 'M', 'NumDealsPurchases', 'Q…"
      ]
     },
     "metadata": {},
     "output_type": "display_data"
    }
   ],
   "source": [
    "print(\"Select Column Name:\")\n",
    "\n",
    "dropdown = widgets.Dropdown(options = sorted(list(set(df_RFM_score.columns))))\n",
    "col_= df_RFM_score.dtypes==('int64' or 'float64')\n",
    "\n",
    "@interact\n",
    "def line_plot(col_name = sorted(col_[col_==True].index)):\n",
    "    df__= df_RFM_score.groupby(['clv_label']).mean().reset_index()\n",
    "    sns.barplot(x=col_name, y=\"clv_label\", data=df__[['clv_label',col_name]])\n",
    "    plt.title(\"Profitable and Non profitable customers in \"+col_name)\n",
    "    plt.show()\n",
    "\n"
   ]
  },
  {
   "cell_type": "markdown",
   "id": "9e40e4f2",
   "metadata": {},
   "source": [
    "**We observe that campaign 4 is the most profitable campaign**"
   ]
  },
  {
   "cell_type": "code",
   "execution_count": null,
   "id": "3d941528",
   "metadata": {},
   "outputs": [],
   "source": []
  }
 ],
 "metadata": {
  "kernelspec": {
   "display_name": "Python 3 (ipykernel)",
   "language": "python",
   "name": "python3"
  },
  "language_info": {
   "codemirror_mode": {
    "name": "ipython",
    "version": 3
   },
   "file_extension": ".py",
   "mimetype": "text/x-python",
   "name": "python",
   "nbconvert_exporter": "python",
   "pygments_lexer": "ipython3",
   "version": "3.9.7"
  },
  "papermill": {
   "default_parameters": {},
   "duration": 43.608974,
   "end_time": "2021-12-29T10:36:50.098528",
   "environment_variables": {},
   "exception": null,
   "input_path": "__notebook__.ipynb",
   "output_path": "__notebook__.ipynb",
   "parameters": {},
   "start_time": "2021-12-29T10:36:06.489554",
   "version": "2.3.3"
  },
  "widgets": {
   "application/vnd.jupyter.widget-state+json": {
    "state": {
     "1d5c27386aae4081a704086c7a66bad8": {
      "model_module": "@jupyter-widgets/base",
      "model_module_version": "1.2.0",
      "model_name": "LayoutModel",
      "state": {
       "_model_module": "@jupyter-widgets/base",
       "_model_module_version": "1.2.0",
       "_model_name": "LayoutModel",
       "_view_count": null,
       "_view_module": "@jupyter-widgets/base",
       "_view_module_version": "1.2.0",
       "_view_name": "LayoutView",
       "align_content": null,
       "align_items": null,
       "align_self": null,
       "border": null,
       "bottom": null,
       "display": null,
       "flex": null,
       "flex_flow": null,
       "grid_area": null,
       "grid_auto_columns": null,
       "grid_auto_flow": null,
       "grid_auto_rows": null,
       "grid_column": null,
       "grid_gap": null,
       "grid_row": null,
       "grid_template_areas": null,
       "grid_template_columns": null,
       "grid_template_rows": null,
       "height": null,
       "justify_content": null,
       "justify_items": null,
       "left": null,
       "margin": null,
       "max_height": null,
       "max_width": null,
       "min_height": null,
       "min_width": null,
       "object_fit": null,
       "object_position": null,
       "order": null,
       "overflow": null,
       "overflow_x": null,
       "overflow_y": null,
       "padding": null,
       "right": null,
       "top": null,
       "visibility": null,
       "width": null
      }
     },
     "289759342ee34a97b7486f69fcc43061": {
      "model_module": "@jupyter-widgets/base",
      "model_module_version": "1.2.0",
      "model_name": "LayoutModel",
      "state": {
       "_model_module": "@jupyter-widgets/base",
       "_model_module_version": "1.2.0",
       "_model_name": "LayoutModel",
       "_view_count": null,
       "_view_module": "@jupyter-widgets/base",
       "_view_module_version": "1.2.0",
       "_view_name": "LayoutView",
       "align_content": null,
       "align_items": null,
       "align_self": null,
       "border": null,
       "bottom": null,
       "display": null,
       "flex": null,
       "flex_flow": null,
       "grid_area": null,
       "grid_auto_columns": null,
       "grid_auto_flow": null,
       "grid_auto_rows": null,
       "grid_column": null,
       "grid_gap": null,
       "grid_row": null,
       "grid_template_areas": null,
       "grid_template_columns": null,
       "grid_template_rows": null,
       "height": null,
       "justify_content": null,
       "justify_items": null,
       "left": null,
       "margin": null,
       "max_height": null,
       "max_width": null,
       "min_height": null,
       "min_width": null,
       "object_fit": null,
       "object_position": null,
       "order": null,
       "overflow": null,
       "overflow_x": null,
       "overflow_y": null,
       "padding": null,
       "right": null,
       "top": null,
       "visibility": null,
       "width": null
      }
     },
     "28f547fae876486ead7947e64b966f5e": {
      "model_module": "@jupyter-widgets/controls",
      "model_module_version": "1.5.0",
      "model_name": "DropdownModel",
      "state": {
       "_dom_classes": [],
       "_model_module": "@jupyter-widgets/controls",
       "_model_module_version": "1.5.0",
       "_model_name": "DropdownModel",
       "_options_labels": [
        "0",
        "1",
        "2",
        "3",
        "4",
        "5"
       ],
       "_view_count": null,
       "_view_module": "@jupyter-widgets/controls",
       "_view_module_version": "1.5.0",
       "_view_name": "DropdownView",
       "description": "",
       "description_tooltip": null,
       "disabled": false,
       "index": 0,
       "layout": "IPY_MODEL_f4ff8da0dc1843878f042b72a1f834ba",
       "style": "IPY_MODEL_54f9d4300dad4102a31169dde759741b"
      }
     },
     "306a4dc8758b4ce6838fae64f10480c1": {
      "model_module": "@jupyter-widgets/base",
      "model_module_version": "1.2.0",
      "model_name": "LayoutModel",
      "state": {
       "_model_module": "@jupyter-widgets/base",
       "_model_module_version": "1.2.0",
       "_model_name": "LayoutModel",
       "_view_count": null,
       "_view_module": "@jupyter-widgets/base",
       "_view_module_version": "1.2.0",
       "_view_name": "LayoutView",
       "align_content": null,
       "align_items": null,
       "align_self": null,
       "border": null,
       "bottom": null,
       "display": null,
       "flex": null,
       "flex_flow": null,
       "grid_area": null,
       "grid_auto_columns": null,
       "grid_auto_flow": null,
       "grid_auto_rows": null,
       "grid_column": null,
       "grid_gap": null,
       "grid_row": null,
       "grid_template_areas": null,
       "grid_template_columns": null,
       "grid_template_rows": null,
       "height": null,
       "justify_content": null,
       "justify_items": null,
       "left": null,
       "margin": null,
       "max_height": null,
       "max_width": null,
       "min_height": null,
       "min_width": null,
       "object_fit": null,
       "object_position": null,
       "order": null,
       "overflow": null,
       "overflow_x": null,
       "overflow_y": null,
       "padding": null,
       "right": null,
       "top": null,
       "visibility": null,
       "width": null
      }
     },
     "351e58841f614a52ab299ece1eee5854": {
      "model_module": "@jupyter-widgets/output",
      "model_module_version": "1.0.0",
      "model_name": "OutputModel",
      "state": {
       "_dom_classes": [],
       "_model_module": "@jupyter-widgets/output",
       "_model_module_version": "1.0.0",
       "_model_name": "OutputModel",
       "_view_count": null,
       "_view_module": "@jupyter-widgets/output",
       "_view_module_version": "1.0.0",
       "_view_name": "OutputView",
       "layout": "IPY_MODEL_bec0d849c137421cbf930b7305526a0d",
       "msg_id": "",
       "outputs": [
        {
         "data": {
          "image/png": "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\n",
          "text/plain": "<Figure size 432x288 with 1 Axes>"
         },
         "metadata": {
          "needs_background": "light"
         },
         "output_type": "display_data"
        }
       ]
      }
     },
     "359880d8f8c3455ab20a984390be45b2": {
      "model_module": "@jupyter-widgets/controls",
      "model_module_version": "1.5.0",
      "model_name": "DescriptionStyleModel",
      "state": {
       "_model_module": "@jupyter-widgets/controls",
       "_model_module_version": "1.5.0",
       "_model_name": "DescriptionStyleModel",
       "_view_count": null,
       "_view_module": "@jupyter-widgets/base",
       "_view_module_version": "1.2.0",
       "_view_name": "StyleView",
       "description_width": "initial"
      }
     },
     "4f5fd7cc699d4983863eed703c63fffc": {
      "model_module": "@jupyter-widgets/controls",
      "model_module_version": "1.5.0",
      "model_name": "DescriptionStyleModel",
      "state": {
       "_model_module": "@jupyter-widgets/controls",
       "_model_module_version": "1.5.0",
       "_model_name": "DescriptionStyleModel",
       "_view_count": null,
       "_view_module": "@jupyter-widgets/base",
       "_view_module_version": "1.2.0",
       "_view_name": "StyleView",
       "description_width": ""
      }
     },
     "54f9d4300dad4102a31169dde759741b": {
      "model_module": "@jupyter-widgets/controls",
      "model_module_version": "1.5.0",
      "model_name": "DescriptionStyleModel",
      "state": {
       "_model_module": "@jupyter-widgets/controls",
       "_model_module_version": "1.5.0",
       "_model_name": "DescriptionStyleModel",
       "_view_count": null,
       "_view_module": "@jupyter-widgets/base",
       "_view_module_version": "1.2.0",
       "_view_name": "StyleView",
       "description_width": ""
      }
     },
     "68edcf490eef4e298ebf8a1eaad3b6ae": {
      "model_module": "@jupyter-widgets/controls",
      "model_module_version": "1.5.0",
      "model_name": "DropdownModel",
      "state": {
       "_dom_classes": [],
       "_model_module": "@jupyter-widgets/controls",
       "_model_module_version": "1.5.0",
       "_model_name": "DropdownModel",
       "_options_labels": [
        "0",
        "1",
        "2",
        "3",
        "4",
        "5"
       ],
       "_view_count": null,
       "_view_module": "@jupyter-widgets/controls",
       "_view_module_version": "1.5.0",
       "_view_name": "DropdownView",
       "description": "NumDealsPurchases",
       "description_tooltip": null,
       "disabled": false,
       "index": 0,
       "layout": "IPY_MODEL_73e890ee0b7642a29d2bf1b9bbaee35a",
       "style": "IPY_MODEL_fbffd728ccfa46ce8a173c8e9d6669a4"
      }
     },
     "6b34555229024854b2f4b4d0774f4030": {
      "model_module": "@jupyter-widgets/base",
      "model_module_version": "1.2.0",
      "model_name": "LayoutModel",
      "state": {
       "_model_module": "@jupyter-widgets/base",
       "_model_module_version": "1.2.0",
       "_model_name": "LayoutModel",
       "_view_count": null,
       "_view_module": "@jupyter-widgets/base",
       "_view_module_version": "1.2.0",
       "_view_name": "LayoutView",
       "align_content": null,
       "align_items": null,
       "align_self": null,
       "border": null,
       "bottom": null,
       "display": null,
       "flex": null,
       "flex_flow": null,
       "grid_area": null,
       "grid_auto_columns": null,
       "grid_auto_flow": null,
       "grid_auto_rows": null,
       "grid_column": null,
       "grid_gap": null,
       "grid_row": null,
       "grid_template_areas": null,
       "grid_template_columns": null,
       "grid_template_rows": null,
       "height": null,
       "justify_content": null,
       "justify_items": null,
       "left": null,
       "margin": null,
       "max_height": null,
       "max_width": null,
       "min_height": null,
       "min_width": null,
       "object_fit": null,
       "object_position": null,
       "order": null,
       "overflow": null,
       "overflow_x": null,
       "overflow_y": null,
       "padding": null,
       "right": null,
       "top": null,
       "visibility": null,
       "width": null
      }
     },
     "6b35bfee48bc4d89af895c5affc42373": {
      "model_module": "@jupyter-widgets/controls",
      "model_module_version": "1.5.0",
      "model_name": "DescriptionStyleModel",
      "state": {
       "_model_module": "@jupyter-widgets/controls",
       "_model_module_version": "1.5.0",
       "_model_name": "DescriptionStyleModel",
       "_view_count": null,
       "_view_module": "@jupyter-widgets/base",
       "_view_module_version": "1.2.0",
       "_view_name": "StyleView",
       "description_width": ""
      }
     },
     "7351581fde2a48be8eef22323b154ea2": {
      "model_module": "@jupyter-widgets/controls",
      "model_module_version": "1.5.0",
      "model_name": "VBoxModel",
      "state": {
       "_dom_classes": [
        "widget-interact"
       ],
       "_model_module": "@jupyter-widgets/controls",
       "_model_module_version": "1.5.0",
       "_model_name": "VBoxModel",
       "_view_count": null,
       "_view_module": "@jupyter-widgets/controls",
       "_view_module_version": "1.5.0",
       "_view_name": "VBoxView",
       "box_style": "",
       "children": [
        "IPY_MODEL_fa54f9a38aac470899f1c3d29e6157c4",
        "IPY_MODEL_fb117792b06b4fd6b02fdf02ee2f4057"
       ],
       "layout": "IPY_MODEL_1d5c27386aae4081a704086c7a66bad8"
      }
     },
     "73e890ee0b7642a29d2bf1b9bbaee35a": {
      "model_module": "@jupyter-widgets/base",
      "model_module_version": "1.2.0",
      "model_name": "LayoutModel",
      "state": {
       "_model_module": "@jupyter-widgets/base",
       "_model_module_version": "1.2.0",
       "_model_name": "LayoutModel",
       "_view_count": null,
       "_view_module": "@jupyter-widgets/base",
       "_view_module_version": "1.2.0",
       "_view_name": "LayoutView",
       "align_content": null,
       "align_items": null,
       "align_self": null,
       "border": null,
       "bottom": null,
       "display": null,
       "flex": null,
       "flex_flow": null,
       "grid_area": null,
       "grid_auto_columns": null,
       "grid_auto_flow": null,
       "grid_auto_rows": null,
       "grid_column": null,
       "grid_gap": null,
       "grid_row": null,
       "grid_template_areas": null,
       "grid_template_columns": null,
       "grid_template_rows": null,
       "height": null,
       "justify_content": null,
       "justify_items": null,
       "left": null,
       "margin": null,
       "max_height": null,
       "max_width": null,
       "min_height": null,
       "min_width": null,
       "object_fit": null,
       "object_position": null,
       "order": null,
       "overflow": null,
       "overflow_x": null,
       "overflow_y": null,
       "padding": null,
       "right": null,
       "top": null,
       "visibility": null,
       "width": null
      }
     },
     "866a060bd6af4a6f8646378d1ce88253": {
      "model_module": "@jupyter-widgets/controls",
      "model_module_version": "1.5.0",
      "model_name": "DescriptionStyleModel",
      "state": {
       "_model_module": "@jupyter-widgets/controls",
       "_model_module_version": "1.5.0",
       "_model_name": "DescriptionStyleModel",
       "_view_count": null,
       "_view_module": "@jupyter-widgets/base",
       "_view_module_version": "1.2.0",
       "_view_name": "StyleView",
       "description_width": ""
      }
     },
     "8b043f04f4df4c449a373ffc673589d9": {
      "model_module": "@jupyter-widgets/output",
      "model_module_version": "1.0.0",
      "model_name": "OutputModel",
      "state": {
       "_dom_classes": [],
       "_model_module": "@jupyter-widgets/output",
       "_model_module_version": "1.0.0",
       "_model_name": "OutputModel",
       "_view_count": null,
       "_view_module": "@jupyter-widgets/output",
       "_view_module_version": "1.0.0",
       "_view_name": "OutputView",
       "layout": "IPY_MODEL_6b34555229024854b2f4b4d0774f4030",
       "msg_id": "",
       "outputs": [
        {
         "data": {
          "image/png": "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\n",
          "text/plain": "<Figure size 432x288 with 1 Axes>"
         },
         "metadata": {
          "needs_background": "light"
         },
         "output_type": "display_data"
        }
       ]
      }
     },
     "a70a5069fd5f46108a9cd69a8cbc1b59": {
      "model_module": "@jupyter-widgets/controls",
      "model_module_version": "1.5.0",
      "model_name": "DropdownModel",
      "state": {
       "_dom_classes": [],
       "_model_module": "@jupyter-widgets/controls",
       "_model_module_version": "1.5.0",
       "_model_name": "DropdownModel",
       "_options_labels": [
        "AcceptedCmp1",
        "AcceptedCmp2",
        "AcceptedCmp3",
        "AcceptedCmp4",
        "AcceptedCmp5",
        "Complain",
        "Dt_Customer",
        "Education",
        "F",
        "Frequency",
        "ID",
        "Income",
        "Kidhome",
        "M",
        "Marital_Status",
        "MntFishProducts",
        "MntFruits",
        "MntGoldProds",
        "MntMeatProducts",
        "MntSweetProducts",
        "MntWines",
        "Monetary",
        "NumCatalogPurchases",
        "NumDealsPurchases",
        "NumDealsPurchases_",
        "NumStorePurchases",
        "NumWebPurchases",
        "NumWebVisitsMonth",
        "R",
        "RFM Score",
        "Recency",
        "Response",
        "Segment",
        "T",
        "Teenhome",
        "Year_Birth",
        "Z_CostContact",
        "Z_Revenue",
        "clv_label",
        "manual_predicted_clv",
        "predicted_clv"
       ],
       "_view_count": null,
       "_view_module": "@jupyter-widgets/controls",
       "_view_module_version": "1.5.0",
       "_view_name": "DropdownView",
       "description": "",
       "description_tooltip": null,
       "disabled": false,
       "index": 0,
       "layout": "IPY_MODEL_306a4dc8758b4ce6838fae64f10480c1",
       "style": "IPY_MODEL_4f5fd7cc699d4983863eed703c63fffc"
      }
     },
     "b1bc4943597041389f083269894285e7": {
      "model_module": "@jupyter-widgets/controls",
      "model_module_version": "1.5.0",
      "model_name": "DropdownModel",
      "state": {
       "_dom_classes": [],
       "_model_module": "@jupyter-widgets/controls",
       "_model_module_version": "1.5.0",
       "_model_name": "DropdownModel",
       "_options_labels": [
        "Qualitative",
        "Sequential",
        "Diverging",
        "Cyclic",
        "Misc",
        "All Colormaps"
       ],
       "_view_count": null,
       "_view_module": "@jupyter-widgets/controls",
       "_view_module_version": "1.5.0",
       "_view_name": "DropdownView",
       "description": "Colormap Category: ",
       "description_tooltip": null,
       "disabled": false,
       "index": null,
       "layout": "IPY_MODEL_edd24064b0034fbf998da634167a7d5b",
       "style": "IPY_MODEL_359880d8f8c3455ab20a984390be45b2"
      }
     },
     "bec0d849c137421cbf930b7305526a0d": {
      "model_module": "@jupyter-widgets/base",
      "model_module_version": "1.2.0",
      "model_name": "LayoutModel",
      "state": {
       "_model_module": "@jupyter-widgets/base",
       "_model_module_version": "1.2.0",
       "_model_name": "LayoutModel",
       "_view_count": null,
       "_view_module": "@jupyter-widgets/base",
       "_view_module_version": "1.2.0",
       "_view_name": "LayoutView",
       "align_content": null,
       "align_items": null,
       "align_self": null,
       "border": null,
       "bottom": null,
       "display": null,
       "flex": null,
       "flex_flow": null,
       "grid_area": null,
       "grid_auto_columns": null,
       "grid_auto_flow": null,
       "grid_auto_rows": null,
       "grid_column": null,
       "grid_gap": null,
       "grid_row": null,
       "grid_template_areas": null,
       "grid_template_columns": null,
       "grid_template_rows": null,
       "height": null,
       "justify_content": null,
       "justify_items": null,
       "left": null,
       "margin": null,
       "max_height": null,
       "max_width": null,
       "min_height": null,
       "min_width": null,
       "object_fit": null,
       "object_position": null,
       "order": null,
       "overflow": null,
       "overflow_x": null,
       "overflow_y": null,
       "padding": null,
       "right": null,
       "top": null,
       "visibility": null,
       "width": null
      }
     },
     "c684c89d3cfe49b08ef7b8c99567c375": {
      "model_module": "@jupyter-widgets/controls",
      "model_module_version": "1.5.0",
      "model_name": "VBoxModel",
      "state": {
       "_dom_classes": [
        "widget-interact"
       ],
       "_model_module": "@jupyter-widgets/controls",
       "_model_module_version": "1.5.0",
       "_model_name": "VBoxModel",
       "_view_count": null,
       "_view_module": "@jupyter-widgets/controls",
       "_view_module_version": "1.5.0",
       "_view_name": "VBoxView",
       "box_style": "",
       "children": [
        "IPY_MODEL_d2d9d47ba0a3482a9622569e83de2d00",
        "IPY_MODEL_8b043f04f4df4c449a373ffc673589d9"
       ],
       "layout": "IPY_MODEL_f0d07005125b425aac7c67ab00861284"
      }
     },
     "c7325cbc387544d8b7b85d7e37df3fff": {
      "model_module": "@jupyter-widgets/controls",
      "model_module_version": "1.5.0",
      "model_name": "DescriptionStyleModel",
      "state": {
       "_model_module": "@jupyter-widgets/controls",
       "_model_module_version": "1.5.0",
       "_model_name": "DescriptionStyleModel",
       "_view_count": null,
       "_view_module": "@jupyter-widgets/base",
       "_view_module_version": "1.2.0",
       "_view_name": "StyleView",
       "description_width": ""
      }
     },
     "d2d9d47ba0a3482a9622569e83de2d00": {
      "model_module": "@jupyter-widgets/controls",
      "model_module_version": "1.5.0",
      "model_name": "DropdownModel",
      "state": {
       "_dom_classes": [],
       "_model_module": "@jupyter-widgets/controls",
       "_model_module_version": "1.5.0",
       "_model_name": "DropdownModel",
       "_options_labels": [
        "AcceptedCmp1",
        "AcceptedCmp2",
        "AcceptedCmp3",
        "AcceptedCmp4",
        "AcceptedCmp5",
        "Complain",
        "F",
        "Frequency",
        "ID",
        "Kidhome",
        "M",
        "MntFishProducts",
        "MntFruits",
        "MntGoldProds",
        "MntMeatProducts",
        "MntSweetProducts",
        "MntWines",
        "Monetary",
        "NumCatalogPurchases",
        "NumDealsPurchases",
        "NumDealsPurchases_",
        "NumStorePurchases",
        "NumWebPurchases",
        "NumWebVisitsMonth",
        "R",
        "Recency",
        "Response",
        "T",
        "Teenhome",
        "Year_Birth",
        "Z_CostContact",
        "Z_Revenue"
       ],
       "_view_count": null,
       "_view_module": "@jupyter-widgets/controls",
       "_view_module_version": "1.5.0",
       "_view_name": "DropdownView",
       "description": "col_name",
       "description_tooltip": null,
       "disabled": false,
       "index": 0,
       "layout": "IPY_MODEL_fd1e9a23df2e44c580bf89c56eada37a",
       "style": "IPY_MODEL_c7325cbc387544d8b7b85d7e37df3fff"
      }
     },
     "e3651eb49954419bb47a6571a89c6909": {
      "model_module": "@jupyter-widgets/base",
      "model_module_version": "1.2.0",
      "model_name": "LayoutModel",
      "state": {
       "_model_module": "@jupyter-widgets/base",
       "_model_module_version": "1.2.0",
       "_model_name": "LayoutModel",
       "_view_count": null,
       "_view_module": "@jupyter-widgets/base",
       "_view_module_version": "1.2.0",
       "_view_name": "LayoutView",
       "align_content": null,
       "align_items": null,
       "align_self": null,
       "border": null,
       "bottom": null,
       "display": null,
       "flex": null,
       "flex_flow": null,
       "grid_area": null,
       "grid_auto_columns": null,
       "grid_auto_flow": null,
       "grid_auto_rows": null,
       "grid_column": null,
       "grid_gap": null,
       "grid_row": null,
       "grid_template_areas": null,
       "grid_template_columns": null,
       "grid_template_rows": null,
       "height": null,
       "justify_content": null,
       "justify_items": null,
       "left": null,
       "margin": null,
       "max_height": null,
       "max_width": null,
       "min_height": null,
       "min_width": null,
       "object_fit": null,
       "object_position": null,
       "order": null,
       "overflow": null,
       "overflow_x": null,
       "overflow_y": null,
       "padding": null,
       "right": null,
       "top": null,
       "visibility": null,
       "width": null
      }
     },
     "e8cef21771f849ef9e81bd5336b3220c": {
      "model_module": "@jupyter-widgets/controls",
      "model_module_version": "1.5.0",
      "model_name": "VBoxModel",
      "state": {
       "_dom_classes": [
        "widget-interact"
       ],
       "_model_module": "@jupyter-widgets/controls",
       "_model_module_version": "1.5.0",
       "_model_name": "VBoxModel",
       "_view_count": null,
       "_view_module": "@jupyter-widgets/controls",
       "_view_module_version": "1.5.0",
       "_view_name": "VBoxView",
       "box_style": "",
       "children": [
        "IPY_MODEL_68edcf490eef4e298ebf8a1eaad3b6ae",
        "IPY_MODEL_351e58841f614a52ab299ece1eee5854"
       ],
       "layout": "IPY_MODEL_ed39937c53284e869b693187c0d417fc"
      }
     },
     "ed39937c53284e869b693187c0d417fc": {
      "model_module": "@jupyter-widgets/base",
      "model_module_version": "1.2.0",
      "model_name": "LayoutModel",
      "state": {
       "_model_module": "@jupyter-widgets/base",
       "_model_module_version": "1.2.0",
       "_model_name": "LayoutModel",
       "_view_count": null,
       "_view_module": "@jupyter-widgets/base",
       "_view_module_version": "1.2.0",
       "_view_name": "LayoutView",
       "align_content": null,
       "align_items": null,
       "align_self": null,
       "border": null,
       "bottom": null,
       "display": null,
       "flex": null,
       "flex_flow": null,
       "grid_area": null,
       "grid_auto_columns": null,
       "grid_auto_flow": null,
       "grid_auto_rows": null,
       "grid_column": null,
       "grid_gap": null,
       "grid_row": null,
       "grid_template_areas": null,
       "grid_template_columns": null,
       "grid_template_rows": null,
       "height": null,
       "justify_content": null,
       "justify_items": null,
       "left": null,
       "margin": null,
       "max_height": null,
       "max_width": null,
       "min_height": null,
       "min_width": null,
       "object_fit": null,
       "object_position": null,
       "order": null,
       "overflow": null,
       "overflow_x": null,
       "overflow_y": null,
       "padding": null,
       "right": null,
       "top": null,
       "visibility": null,
       "width": null
      }
     },
     "edd24064b0034fbf998da634167a7d5b": {
      "model_module": "@jupyter-widgets/base",
      "model_module_version": "1.2.0",
      "model_name": "LayoutModel",
      "state": {
       "_model_module": "@jupyter-widgets/base",
       "_model_module_version": "1.2.0",
       "_model_name": "LayoutModel",
       "_view_count": null,
       "_view_module": "@jupyter-widgets/base",
       "_view_module_version": "1.2.0",
       "_view_name": "LayoutView",
       "align_content": null,
       "align_items": null,
       "align_self": null,
       "border": null,
       "bottom": null,
       "display": null,
       "flex": null,
       "flex_flow": null,
       "grid_area": null,
       "grid_auto_columns": null,
       "grid_auto_flow": null,
       "grid_auto_rows": null,
       "grid_column": null,
       "grid_gap": null,
       "grid_row": null,
       "grid_template_areas": null,
       "grid_template_columns": null,
       "grid_template_rows": null,
       "height": null,
       "justify_content": null,
       "justify_items": null,
       "left": null,
       "margin": null,
       "max_height": null,
       "max_width": null,
       "min_height": null,
       "min_width": null,
       "object_fit": null,
       "object_position": null,
       "order": null,
       "overflow": null,
       "overflow_x": null,
       "overflow_y": null,
       "padding": null,
       "right": null,
       "top": null,
       "visibility": null,
       "width": null
      }
     },
     "ee69b1aa6a694bcd8bdfc3d1566a2a65": {
      "model_module": "@jupyter-widgets/base",
      "model_module_version": "1.2.0",
      "model_name": "LayoutModel",
      "state": {
       "_model_module": "@jupyter-widgets/base",
       "_model_module_version": "1.2.0",
       "_model_name": "LayoutModel",
       "_view_count": null,
       "_view_module": "@jupyter-widgets/base",
       "_view_module_version": "1.2.0",
       "_view_name": "LayoutView",
       "align_content": null,
       "align_items": null,
       "align_self": null,
       "border": null,
       "bottom": null,
       "display": null,
       "flex": null,
       "flex_flow": null,
       "grid_area": null,
       "grid_auto_columns": null,
       "grid_auto_flow": null,
       "grid_auto_rows": null,
       "grid_column": null,
       "grid_gap": null,
       "grid_row": null,
       "grid_template_areas": null,
       "grid_template_columns": null,
       "grid_template_rows": null,
       "height": null,
       "justify_content": null,
       "justify_items": null,
       "left": null,
       "margin": null,
       "max_height": null,
       "max_width": null,
       "min_height": null,
       "min_width": null,
       "object_fit": null,
       "object_position": null,
       "order": null,
       "overflow": null,
       "overflow_x": null,
       "overflow_y": null,
       "padding": null,
       "right": null,
       "top": null,
       "visibility": null,
       "width": null
      }
     },
     "f0d07005125b425aac7c67ab00861284": {
      "model_module": "@jupyter-widgets/base",
      "model_module_version": "1.2.0",
      "model_name": "LayoutModel",
      "state": {
       "_model_module": "@jupyter-widgets/base",
       "_model_module_version": "1.2.0",
       "_model_name": "LayoutModel",
       "_view_count": null,
       "_view_module": "@jupyter-widgets/base",
       "_view_module_version": "1.2.0",
       "_view_name": "LayoutView",
       "align_content": null,
       "align_items": null,
       "align_self": null,
       "border": null,
       "bottom": null,
       "display": null,
       "flex": null,
       "flex_flow": null,
       "grid_area": null,
       "grid_auto_columns": null,
       "grid_auto_flow": null,
       "grid_auto_rows": null,
       "grid_column": null,
       "grid_gap": null,
       "grid_row": null,
       "grid_template_areas": null,
       "grid_template_columns": null,
       "grid_template_rows": null,
       "height": null,
       "justify_content": null,
       "justify_items": null,
       "left": null,
       "margin": null,
       "max_height": null,
       "max_width": null,
       "min_height": null,
       "min_width": null,
       "object_fit": null,
       "object_position": null,
       "order": null,
       "overflow": null,
       "overflow_x": null,
       "overflow_y": null,
       "padding": null,
       "right": null,
       "top": null,
       "visibility": null,
       "width": null
      }
     },
     "f4ff8da0dc1843878f042b72a1f834ba": {
      "model_module": "@jupyter-widgets/base",
      "model_module_version": "1.2.0",
      "model_name": "LayoutModel",
      "state": {
       "_model_module": "@jupyter-widgets/base",
       "_model_module_version": "1.2.0",
       "_model_name": "LayoutModel",
       "_view_count": null,
       "_view_module": "@jupyter-widgets/base",
       "_view_module_version": "1.2.0",
       "_view_name": "LayoutView",
       "align_content": null,
       "align_items": null,
       "align_self": null,
       "border": null,
       "bottom": null,
       "display": null,
       "flex": null,
       "flex_flow": null,
       "grid_area": null,
       "grid_auto_columns": null,
       "grid_auto_flow": null,
       "grid_auto_rows": null,
       "grid_column": null,
       "grid_gap": null,
       "grid_row": null,
       "grid_template_areas": null,
       "grid_template_columns": null,
       "grid_template_rows": null,
       "height": null,
       "justify_content": null,
       "justify_items": null,
       "left": null,
       "margin": null,
       "max_height": null,
       "max_width": null,
       "min_height": null,
       "min_width": null,
       "object_fit": null,
       "object_position": null,
       "order": null,
       "overflow": null,
       "overflow_x": null,
       "overflow_y": null,
       "padding": null,
       "right": null,
       "top": null,
       "visibility": null,
       "width": null
      }
     },
     "fa54f9a38aac470899f1c3d29e6157c4": {
      "model_module": "@jupyter-widgets/controls",
      "model_module_version": "1.5.0",
      "model_name": "DropdownModel",
      "state": {
       "_dom_classes": [],
       "_model_module": "@jupyter-widgets/controls",
       "_model_module_version": "1.5.0",
       "_model_name": "DropdownModel",
       "_options_labels": [
        "AcceptedCmp1",
        "AcceptedCmp2",
        "AcceptedCmp3",
        "AcceptedCmp4",
        "AcceptedCmp5",
        "Complain",
        "F",
        "Frequency",
        "ID",
        "Kidhome",
        "M",
        "MntFishProducts",
        "MntFruits",
        "MntGoldProds",
        "MntMeatProducts",
        "MntSweetProducts",
        "MntWines",
        "Monetary",
        "NumCatalogPurchases",
        "NumDealsPurchases",
        "NumDealsPurchases_",
        "NumStorePurchases",
        "NumWebPurchases",
        "NumWebVisitsMonth",
        "R",
        "Recency",
        "Response",
        "Teenhome",
        "Year_Birth",
        "Z_CostContact",
        "Z_Revenue"
       ],
       "_view_count": null,
       "_view_module": "@jupyter-widgets/controls",
       "_view_module_version": "1.5.0",
       "_view_name": "DropdownView",
       "description": "col_name",
       "description_tooltip": null,
       "disabled": false,
       "index": 0,
       "layout": "IPY_MODEL_ee69b1aa6a694bcd8bdfc3d1566a2a65",
       "style": "IPY_MODEL_866a060bd6af4a6f8646378d1ce88253"
      }
     },
     "fb117792b06b4fd6b02fdf02ee2f4057": {
      "model_module": "@jupyter-widgets/output",
      "model_module_version": "1.0.0",
      "model_name": "OutputModel",
      "state": {
       "_dom_classes": [],
       "_model_module": "@jupyter-widgets/output",
       "_model_module_version": "1.0.0",
       "_model_name": "OutputModel",
       "_view_count": null,
       "_view_module": "@jupyter-widgets/output",
       "_view_module_version": "1.0.0",
       "_view_name": "OutputView",
       "layout": "IPY_MODEL_e3651eb49954419bb47a6571a89c6909",
       "msg_id": "",
       "outputs": [
        {
         "name": "stdout",
         "output_type": "stream",
         "text": "AcceptedCmp1\n"
        },
        {
         "data": {
          "image/png": "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\n",
          "text/plain": "<Figure size 432x288 with 1 Axes>"
         },
         "metadata": {
          "needs_background": "light"
         },
         "output_type": "display_data"
        }
       ]
      }
     },
     "fb4fb4a85e654ab981c3301785465020": {
      "model_module": "@jupyter-widgets/controls",
      "model_module_version": "1.5.0",
      "model_name": "DropdownModel",
      "state": {
       "_dom_classes": [],
       "_model_module": "@jupyter-widgets/controls",
       "_model_module_version": "1.5.0",
       "_model_name": "DropdownModel",
       "_options_labels": [
        "AcceptedCmp1",
        "AcceptedCmp2",
        "AcceptedCmp3",
        "AcceptedCmp4",
        "AcceptedCmp5",
        "Complain",
        "Dt_Customer",
        "Education",
        "F",
        "Frequency",
        "ID",
        "Income",
        "Kidhome",
        "M",
        "Marital_Status",
        "MntFishProducts",
        "MntFruits",
        "MntGoldProds",
        "MntMeatProducts",
        "MntSweetProducts",
        "MntWines",
        "Monetary",
        "NumCatalogPurchases",
        "NumDealsPurchases",
        "NumDealsPurchases_",
        "NumStorePurchases",
        "NumWebPurchases",
        "NumWebVisitsMonth",
        "R",
        "RFM Score",
        "Recency",
        "Response",
        "Segment",
        "Teenhome",
        "Year_Birth",
        "Z_CostContact",
        "Z_Revenue"
       ],
       "_view_count": null,
       "_view_module": "@jupyter-widgets/controls",
       "_view_module_version": "1.5.0",
       "_view_name": "DropdownView",
       "description": "",
       "description_tooltip": null,
       "disabled": false,
       "index": 0,
       "layout": "IPY_MODEL_289759342ee34a97b7486f69fcc43061",
       "style": "IPY_MODEL_6b35bfee48bc4d89af895c5affc42373"
      }
     },
     "fbffd728ccfa46ce8a173c8e9d6669a4": {
      "model_module": "@jupyter-widgets/controls",
      "model_module_version": "1.5.0",
      "model_name": "DescriptionStyleModel",
      "state": {
       "_model_module": "@jupyter-widgets/controls",
       "_model_module_version": "1.5.0",
       "_model_name": "DescriptionStyleModel",
       "_view_count": null,
       "_view_module": "@jupyter-widgets/base",
       "_view_module_version": "1.2.0",
       "_view_name": "StyleView",
       "description_width": ""
      }
     },
     "fd1e9a23df2e44c580bf89c56eada37a": {
      "model_module": "@jupyter-widgets/base",
      "model_module_version": "1.2.0",
      "model_name": "LayoutModel",
      "state": {
       "_model_module": "@jupyter-widgets/base",
       "_model_module_version": "1.2.0",
       "_model_name": "LayoutModel",
       "_view_count": null,
       "_view_module": "@jupyter-widgets/base",
       "_view_module_version": "1.2.0",
       "_view_name": "LayoutView",
       "align_content": null,
       "align_items": null,
       "align_self": null,
       "border": null,
       "bottom": null,
       "display": null,
       "flex": null,
       "flex_flow": null,
       "grid_area": null,
       "grid_auto_columns": null,
       "grid_auto_flow": null,
       "grid_auto_rows": null,
       "grid_column": null,
       "grid_gap": null,
       "grid_row": null,
       "grid_template_areas": null,
       "grid_template_columns": null,
       "grid_template_rows": null,
       "height": null,
       "justify_content": null,
       "justify_items": null,
       "left": null,
       "margin": null,
       "max_height": null,
       "max_width": null,
       "min_height": null,
       "min_width": null,
       "object_fit": null,
       "object_position": null,
       "order": null,
       "overflow": null,
       "overflow_x": null,
       "overflow_y": null,
       "padding": null,
       "right": null,
       "top": null,
       "visibility": null,
       "width": null
      }
     }
    },
    "version_major": 2,
    "version_minor": 0
   }
  }
 },
 "nbformat": 4,
 "nbformat_minor": 5
}
