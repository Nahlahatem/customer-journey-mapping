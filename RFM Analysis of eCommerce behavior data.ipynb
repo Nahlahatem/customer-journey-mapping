{
 "cells": [
  {
   "cell_type": "markdown",
   "id": "86e76eb2",
   "metadata": {},
   "source": [
    "# RFM Analysis of eCommerce behavior data\n",
    "\n",
    "[NoteBook](https://www.kaggle.com/code/arifsetiyawan/rfm-analysis-of-ecommerce-behavior-data)"
   ]
  },
  {
   "cell_type": "code",
   "execution_count": 2,
   "id": "2bbfe0ed",
   "metadata": {},
   "outputs": [
    {
     "name": "stdout",
     "output_type": "stream",
     "text": [
      "Collecting squarify\n",
      "  Downloading squarify-0.4.3-py3-none-any.whl (4.3 kB)\n",
      "Installing collected packages: squarify\n",
      "Successfully installed squarify-0.4.3\n",
      "Note: you may need to restart the kernel to use updated packages.\n"
     ]
    }
   ],
   "source": [
    "pip install squarify"
   ]
  },
  {
   "cell_type": "code",
   "execution_count": 3,
   "id": "7ff7994e",
   "metadata": {},
   "outputs": [],
   "source": [
    "#Import Library\n",
    "import pandas as pd\n",
    "import numpy as np\n",
    "import os\n",
    "import matplotlib.pyplot as plt\n",
    "import squarify"
   ]
  },
  {
   "cell_type": "code",
   "execution_count": 4,
   "id": "8ad1abf6",
   "metadata": {},
   "outputs": [],
   "source": [
    "data_oct = pd.read_csv('ecommerce-behavior-data-from-multi-category-store/2019-Oct.csv',usecols=['event_time','event_type','price','user_id','user_session'])\n",
    "data_nov = pd.read_csv('ecommerce-behavior-data-from-multi-category-store/2019-Nov.csv',usecols=['event_time','event_type','price','user_id','user_session'])"
   ]
  },
  {
   "cell_type": "code",
   "execution_count": 5,
   "id": "34019263",
   "metadata": {},
   "outputs": [
    {
     "data": {
      "text/plain": [
       "array(['view', 'purchase', 'cart'], dtype=object)"
      ]
     },
     "execution_count": 5,
     "metadata": {},
     "output_type": "execute_result"
    }
   ],
   "source": [
    "data_oct['event_type'].unique()"
   ]
  },
  {
   "cell_type": "code",
   "execution_count": 6,
   "id": "e2c7e310",
   "metadata": {},
   "outputs": [
    {
     "data": {
      "text/plain": [
       "array(['view', 'cart', 'purchase'], dtype=object)"
      ]
     },
     "execution_count": 6,
     "metadata": {},
     "output_type": "execute_result"
    }
   ],
   "source": [
    "data_nov['event_type'].unique()"
   ]
  },
  {
   "cell_type": "code",
   "execution_count": 7,
   "id": "e9f25584",
   "metadata": {},
   "outputs": [],
   "source": [
    "data_oct=data_oct.loc[data_oct.event_type == 'purchase']\n",
    "data_nov=data_nov.loc[data_nov.event_type == 'purchase']"
   ]
  },
  {
   "cell_type": "code",
   "execution_count": 33,
   "id": "5d9f0324",
   "metadata": {},
   "outputs": [],
   "source": [
    "frames = [data_oct, data_nov]\n",
    "data=pd.concat(frames)"
   ]
  },
  {
   "cell_type": "code",
   "execution_count": 34,
   "id": "673c426e",
   "metadata": {},
   "outputs": [
    {
     "data": {
      "text/html": [
       "<div>\n",
       "<style scoped>\n",
       "    .dataframe tbody tr th:only-of-type {\n",
       "        vertical-align: middle;\n",
       "    }\n",
       "\n",
       "    .dataframe tbody tr th {\n",
       "        vertical-align: top;\n",
       "    }\n",
       "\n",
       "    .dataframe thead th {\n",
       "        text-align: right;\n",
       "    }\n",
       "</style>\n",
       "<table border=\"1\" class=\"dataframe\">\n",
       "  <thead>\n",
       "    <tr style=\"text-align: right;\">\n",
       "      <th></th>\n",
       "      <th>event_time</th>\n",
       "      <th>event_type</th>\n",
       "      <th>price</th>\n",
       "      <th>user_id</th>\n",
       "      <th>user_session</th>\n",
       "    </tr>\n",
       "  </thead>\n",
       "  <tbody>\n",
       "    <tr>\n",
       "      <th>162</th>\n",
       "      <td>2019-10-01 00:02:14 UTC</td>\n",
       "      <td>purchase</td>\n",
       "      <td>130.76</td>\n",
       "      <td>543272936</td>\n",
       "      <td>8187d148-3c41-46d4-b0c0-9c08cd9dc564</td>\n",
       "    </tr>\n",
       "    <tr>\n",
       "      <th>308</th>\n",
       "      <td>2019-10-01 00:04:37 UTC</td>\n",
       "      <td>purchase</td>\n",
       "      <td>642.69</td>\n",
       "      <td>551377651</td>\n",
       "      <td>3c80f0d6-e9ec-4181-8c5c-837a30be2d68</td>\n",
       "    </tr>\n",
       "    <tr>\n",
       "      <th>379</th>\n",
       "      <td>2019-10-01 00:06:02 UTC</td>\n",
       "      <td>purchase</td>\n",
       "      <td>29.51</td>\n",
       "      <td>514591159</td>\n",
       "      <td>0e5dfc4b-2a55-43e6-8c05-97e1f07fbb56</td>\n",
       "    </tr>\n",
       "    <tr>\n",
       "      <th>442</th>\n",
       "      <td>2019-10-01 00:07:07 UTC</td>\n",
       "      <td>purchase</td>\n",
       "      <td>54.42</td>\n",
       "      <td>555332717</td>\n",
       "      <td>1dea3ee2-2ded-42e8-8e7a-4e2ad6ae942f</td>\n",
       "    </tr>\n",
       "    <tr>\n",
       "      <th>574</th>\n",
       "      <td>2019-10-01 00:09:26 UTC</td>\n",
       "      <td>purchase</td>\n",
       "      <td>189.91</td>\n",
       "      <td>524601178</td>\n",
       "      <td>2af9b570-0942-4dcd-8f25-4d84fba82553</td>\n",
       "    </tr>\n",
       "  </tbody>\n",
       "</table>\n",
       "</div>"
      ],
      "text/plain": [
       "                  event_time event_type   price    user_id   \n",
       "162  2019-10-01 00:02:14 UTC   purchase  130.76  543272936  \\\n",
       "308  2019-10-01 00:04:37 UTC   purchase  642.69  551377651   \n",
       "379  2019-10-01 00:06:02 UTC   purchase   29.51  514591159   \n",
       "442  2019-10-01 00:07:07 UTC   purchase   54.42  555332717   \n",
       "574  2019-10-01 00:09:26 UTC   purchase  189.91  524601178   \n",
       "\n",
       "                             user_session  \n",
       "162  8187d148-3c41-46d4-b0c0-9c08cd9dc564  \n",
       "308  3c80f0d6-e9ec-4181-8c5c-837a30be2d68  \n",
       "379  0e5dfc4b-2a55-43e6-8c05-97e1f07fbb56  \n",
       "442  1dea3ee2-2ded-42e8-8e7a-4e2ad6ae942f  \n",
       "574  2af9b570-0942-4dcd-8f25-4d84fba82553  "
      ]
     },
     "execution_count": 34,
     "metadata": {},
     "output_type": "execute_result"
    }
   ],
   "source": [
    "data.head()"
   ]
  },
  {
   "cell_type": "code",
   "execution_count": 35,
   "id": "8a333b6d",
   "metadata": {},
   "outputs": [
    {
     "name": "stdout",
     "output_type": "stream",
     "text": [
      "CPU times: user 19.4 s, sys: 68.3 ms, total: 19.4 s\n",
      "Wall time: 19.4 s\n"
     ]
    }
   ],
   "source": [
    "%%time\n",
    "data['event_time']=pd.to_datetime(data['event_time']).dt.tz_convert(None)"
   ]
  },
  {
   "cell_type": "code",
   "execution_count": 11,
   "id": "a253dd9c",
   "metadata": {},
   "outputs": [
    {
     "data": {
      "text/plain": [
       "event_time      datetime64[ns]\n",
       "event_type              object\n",
       "price                  float64\n",
       "user_id                  int64\n",
       "user_session            object\n",
       "dtype: object"
      ]
     },
     "execution_count": 11,
     "metadata": {},
     "output_type": "execute_result"
    }
   ],
   "source": [
    "data.dtypes"
   ]
  },
  {
   "cell_type": "code",
   "execution_count": 2,
   "id": "dde9d88d",
   "metadata": {
    "collapsed": true,
    "jupyter": {
     "outputs_hidden": true
    }
   },
   "outputs": [
    {
     "ename": "NameError",
     "evalue": "name 'data' is not defined",
     "output_type": "error",
     "traceback": [
      "\u001b[0;31m---------------------------------------------------------------------------\u001b[0m",
      "\u001b[0;31mNameError\u001b[0m                                 Traceback (most recent call last)",
      "File \u001b[0;32m<timed exec>:5\u001b[0m\n",
      "\u001b[0;31mNameError\u001b[0m: name 'data' is not defined"
     ]
    }
   ],
   "source": [
    "%%time\n",
    "#save dataframe as feather in case our notebook got crashed\n",
    "#feather save column data types\n",
    "import pyarrow.feather as feather\n",
    "os.makedirs('tmp', exist_ok=True)  # Make a temp dir for storing the feather file\n",
    "feather.write_feather(data, './tmp/data')"
   ]
  },
  {
   "cell_type": "code",
   "execution_count": 4,
   "id": "992a47b3",
   "metadata": {},
   "outputs": [
    {
     "name": "stdout",
     "output_type": "stream",
     "text": [
      "CPU times: user 534 ms, sys: 305 ms, total: 839 ms\n",
      "Wall time: 661 ms\n"
     ]
    },
    {
     "data": {
      "text/html": [
       "<div>\n",
       "<style scoped>\n",
       "    .dataframe tbody tr th:only-of-type {\n",
       "        vertical-align: middle;\n",
       "    }\n",
       "\n",
       "    .dataframe tbody tr th {\n",
       "        vertical-align: top;\n",
       "    }\n",
       "\n",
       "    .dataframe thead th {\n",
       "        text-align: right;\n",
       "    }\n",
       "</style>\n",
       "<table border=\"1\" class=\"dataframe\">\n",
       "  <thead>\n",
       "    <tr style=\"text-align: right;\">\n",
       "      <th></th>\n",
       "      <th>event_time</th>\n",
       "      <th>event_type</th>\n",
       "      <th>price</th>\n",
       "      <th>user_id</th>\n",
       "      <th>user_session</th>\n",
       "    </tr>\n",
       "  </thead>\n",
       "  <tbody>\n",
       "    <tr>\n",
       "      <th>162</th>\n",
       "      <td>2019-10-01 00:02:14</td>\n",
       "      <td>purchase</td>\n",
       "      <td>130.76</td>\n",
       "      <td>543272936</td>\n",
       "      <td>8187d148-3c41-46d4-b0c0-9c08cd9dc564</td>\n",
       "    </tr>\n",
       "    <tr>\n",
       "      <th>308</th>\n",
       "      <td>2019-10-01 00:04:37</td>\n",
       "      <td>purchase</td>\n",
       "      <td>642.69</td>\n",
       "      <td>551377651</td>\n",
       "      <td>3c80f0d6-e9ec-4181-8c5c-837a30be2d68</td>\n",
       "    </tr>\n",
       "    <tr>\n",
       "      <th>379</th>\n",
       "      <td>2019-10-01 00:06:02</td>\n",
       "      <td>purchase</td>\n",
       "      <td>29.51</td>\n",
       "      <td>514591159</td>\n",
       "      <td>0e5dfc4b-2a55-43e6-8c05-97e1f07fbb56</td>\n",
       "    </tr>\n",
       "    <tr>\n",
       "      <th>442</th>\n",
       "      <td>2019-10-01 00:07:07</td>\n",
       "      <td>purchase</td>\n",
       "      <td>54.42</td>\n",
       "      <td>555332717</td>\n",
       "      <td>1dea3ee2-2ded-42e8-8e7a-4e2ad6ae942f</td>\n",
       "    </tr>\n",
       "    <tr>\n",
       "      <th>574</th>\n",
       "      <td>2019-10-01 00:09:26</td>\n",
       "      <td>purchase</td>\n",
       "      <td>189.91</td>\n",
       "      <td>524601178</td>\n",
       "      <td>2af9b570-0942-4dcd-8f25-4d84fba82553</td>\n",
       "    </tr>\n",
       "    <tr>\n",
       "      <th>...</th>\n",
       "      <td>...</td>\n",
       "      <td>...</td>\n",
       "      <td>...</td>\n",
       "      <td>...</td>\n",
       "      <td>...</td>\n",
       "    </tr>\n",
       "    <tr>\n",
       "      <th>67501725</th>\n",
       "      <td>2019-11-30 23:58:14</td>\n",
       "      <td>purchase</td>\n",
       "      <td>346.70</td>\n",
       "      <td>547804983</td>\n",
       "      <td>717566cf-ef93-4078-ba8f-169a3ac9f1a0</td>\n",
       "    </tr>\n",
       "    <tr>\n",
       "      <th>67501745</th>\n",
       "      <td>2019-11-30 23:58:22</td>\n",
       "      <td>purchase</td>\n",
       "      <td>1437.02</td>\n",
       "      <td>515582054</td>\n",
       "      <td>829c20b5-696e-4a8a-8a9f-171014a3ecbe</td>\n",
       "    </tr>\n",
       "    <tr>\n",
       "      <th>67501824</th>\n",
       "      <td>2019-11-30 23:58:57</td>\n",
       "      <td>purchase</td>\n",
       "      <td>235.60</td>\n",
       "      <td>579876821</td>\n",
       "      <td>ca50e291-43f3-4ca2-9e13-20ee6b8b25f0</td>\n",
       "    </tr>\n",
       "    <tr>\n",
       "      <th>67501863</th>\n",
       "      <td>2019-11-30 23:59:15</td>\n",
       "      <td>purchase</td>\n",
       "      <td>89.32</td>\n",
       "      <td>543733099</td>\n",
       "      <td>a65116f4-ac53-4a41-ad68-6606788e674c</td>\n",
       "    </tr>\n",
       "    <tr>\n",
       "      <th>67501944</th>\n",
       "      <td>2019-11-30 23:59:44</td>\n",
       "      <td>purchase</td>\n",
       "      <td>179.16</td>\n",
       "      <td>553345124</td>\n",
       "      <td>58c692ff-c7a9-4e35-9ec4-58598f1940e0</td>\n",
       "    </tr>\n",
       "  </tbody>\n",
       "</table>\n",
       "<p>1659788 rows × 5 columns</p>\n",
       "</div>"
      ],
      "text/plain": [
       "                  event_time event_type    price    user_id   \n",
       "162      2019-10-01 00:02:14   purchase   130.76  543272936  \\\n",
       "308      2019-10-01 00:04:37   purchase   642.69  551377651   \n",
       "379      2019-10-01 00:06:02   purchase    29.51  514591159   \n",
       "442      2019-10-01 00:07:07   purchase    54.42  555332717   \n",
       "574      2019-10-01 00:09:26   purchase   189.91  524601178   \n",
       "...                      ...        ...      ...        ...   \n",
       "67501725 2019-11-30 23:58:14   purchase   346.70  547804983   \n",
       "67501745 2019-11-30 23:58:22   purchase  1437.02  515582054   \n",
       "67501824 2019-11-30 23:58:57   purchase   235.60  579876821   \n",
       "67501863 2019-11-30 23:59:15   purchase    89.32  543733099   \n",
       "67501944 2019-11-30 23:59:44   purchase   179.16  553345124   \n",
       "\n",
       "                                  user_session  \n",
       "162       8187d148-3c41-46d4-b0c0-9c08cd9dc564  \n",
       "308       3c80f0d6-e9ec-4181-8c5c-837a30be2d68  \n",
       "379       0e5dfc4b-2a55-43e6-8c05-97e1f07fbb56  \n",
       "442       1dea3ee2-2ded-42e8-8e7a-4e2ad6ae942f  \n",
       "574       2af9b570-0942-4dcd-8f25-4d84fba82553  \n",
       "...                                        ...  \n",
       "67501725  717566cf-ef93-4078-ba8f-169a3ac9f1a0  \n",
       "67501745  829c20b5-696e-4a8a-8a9f-171014a3ecbe  \n",
       "67501824  ca50e291-43f3-4ca2-9e13-20ee6b8b25f0  \n",
       "67501863  a65116f4-ac53-4a41-ad68-6606788e674c  \n",
       "67501944  58c692ff-c7a9-4e35-9ec4-58598f1940e0  \n",
       "\n",
       "[1659788 rows x 5 columns]"
      ]
     },
     "execution_count": 4,
     "metadata": {},
     "output_type": "execute_result"
    }
   ],
   "source": [
    "%%time\n",
    "#load the feather data cause feather more lightweight\n",
    "data = pd.read_feather('./tmp/data')\n",
    "data"
   ]
  },
  {
   "cell_type": "code",
   "execution_count": 7,
   "id": "ade9f697",
   "metadata": {},
   "outputs": [
    {
     "data": {
      "text/html": [
       "<div>\n",
       "<style scoped>\n",
       "    .dataframe tbody tr th:only-of-type {\n",
       "        vertical-align: middle;\n",
       "    }\n",
       "\n",
       "    .dataframe tbody tr th {\n",
       "        vertical-align: top;\n",
       "    }\n",
       "\n",
       "    .dataframe thead th {\n",
       "        text-align: right;\n",
       "    }\n",
       "</style>\n",
       "<table border=\"1\" class=\"dataframe\">\n",
       "  <thead>\n",
       "    <tr style=\"text-align: right;\">\n",
       "      <th></th>\n",
       "      <th>Date_order</th>\n",
       "      <th>user_id</th>\n",
       "      <th>Quantity</th>\n",
       "      <th>money_spent</th>\n",
       "    </tr>\n",
       "  </thead>\n",
       "  <tbody>\n",
       "    <tr>\n",
       "      <th>0</th>\n",
       "      <td>2019-10-06 11:34:30</td>\n",
       "      <td>[546521725]</td>\n",
       "      <td>1</td>\n",
       "      <td>289.52</td>\n",
       "    </tr>\n",
       "    <tr>\n",
       "      <th>1</th>\n",
       "      <td>2019-10-25 08:39:11</td>\n",
       "      <td>[560486342]</td>\n",
       "      <td>1</td>\n",
       "      <td>171.90</td>\n",
       "    </tr>\n",
       "    <tr>\n",
       "      <th>2</th>\n",
       "      <td>2019-11-02 08:35:35</td>\n",
       "      <td>[563180871]</td>\n",
       "      <td>1</td>\n",
       "      <td>123.55</td>\n",
       "    </tr>\n",
       "    <tr>\n",
       "      <th>3</th>\n",
       "      <td>2019-11-11 03:35:34</td>\n",
       "      <td>[566954797]</td>\n",
       "      <td>1</td>\n",
       "      <td>151.61</td>\n",
       "    </tr>\n",
       "    <tr>\n",
       "      <th>4</th>\n",
       "      <td>2019-10-17 13:37:59</td>\n",
       "      <td>[560744406]</td>\n",
       "      <td>2</td>\n",
       "      <td>379.78</td>\n",
       "    </tr>\n",
       "    <tr>\n",
       "      <th>...</th>\n",
       "      <td>...</td>\n",
       "      <td>...</td>\n",
       "      <td>...</td>\n",
       "      <td>...</td>\n",
       "    </tr>\n",
       "    <tr>\n",
       "      <th>1402753</th>\n",
       "      <td>2019-11-18 11:20:56</td>\n",
       "      <td>[519523637]</td>\n",
       "      <td>1</td>\n",
       "      <td>45.03</td>\n",
       "    </tr>\n",
       "    <tr>\n",
       "      <th>1402754</th>\n",
       "      <td>2019-11-17 10:59:07</td>\n",
       "      <td>[523658055]</td>\n",
       "      <td>1</td>\n",
       "      <td>32.15</td>\n",
       "    </tr>\n",
       "    <tr>\n",
       "      <th>1402755</th>\n",
       "      <td>2019-11-25 10:56:59</td>\n",
       "      <td>[518862395]</td>\n",
       "      <td>2</td>\n",
       "      <td>163.19</td>\n",
       "    </tr>\n",
       "    <tr>\n",
       "      <th>1402756</th>\n",
       "      <td>2019-11-17 05:52:00</td>\n",
       "      <td>[571263795]</td>\n",
       "      <td>2</td>\n",
       "      <td>66.64</td>\n",
       "    </tr>\n",
       "    <tr>\n",
       "      <th>1402757</th>\n",
       "      <td>2019-11-17 14:12:02</td>\n",
       "      <td>[519073108]</td>\n",
       "      <td>1</td>\n",
       "      <td>128.42</td>\n",
       "    </tr>\n",
       "  </tbody>\n",
       "</table>\n",
       "<p>1402758 rows × 4 columns</p>\n",
       "</div>"
      ],
      "text/plain": [
       "                 Date_order      user_id  Quantity  money_spent\n",
       "0       2019-10-06 11:34:30  [546521725]         1       289.52\n",
       "1       2019-10-25 08:39:11  [560486342]         1       171.90\n",
       "2       2019-11-02 08:35:35  [563180871]         1       123.55\n",
       "3       2019-11-11 03:35:34  [566954797]         1       151.61\n",
       "4       2019-10-17 13:37:59  [560744406]         2       379.78\n",
       "...                     ...          ...       ...          ...\n",
       "1402753 2019-11-18 11:20:56  [519523637]         1        45.03\n",
       "1402754 2019-11-17 10:59:07  [523658055]         1        32.15\n",
       "1402755 2019-11-25 10:56:59  [518862395]         2       163.19\n",
       "1402756 2019-11-17 05:52:00  [571263795]         2        66.64\n",
       "1402757 2019-11-17 14:12:02  [519073108]         1       128.42\n",
       "\n",
       "[1402758 rows x 4 columns]"
      ]
     },
     "execution_count": 7,
     "metadata": {},
     "output_type": "execute_result"
    }
   ],
   "source": [
    "grouped_data=data.groupby(by='user_session').agg(Date_order=('event_time','max'),\n",
    "                                        user_id=('user_id','unique'),\n",
    "                                          Quantity=('user_session','count'),\n",
    "                                         money_spent=('price','sum')).reset_index(drop=True)\n",
    "grouped_data"
   ]
  },
  {
   "cell_type": "code",
   "execution_count": 12,
   "id": "678ec223",
   "metadata": {},
   "outputs": [],
   "source": [
    "grouped_data['user_id'] = grouped_data['user_id'].astype('int')"
   ]
  },
  {
   "cell_type": "markdown",
   "id": "c2696382",
   "metadata": {},
   "source": [
    "### RFM Analysis"
   ]
  },
  {
   "cell_type": "code",
   "execution_count": 13,
   "id": "9a49f264",
   "metadata": {},
   "outputs": [
    {
     "data": {
      "text/plain": [
       "Timestamp('2019-11-30 23:59:44')"
      ]
     },
     "execution_count": 13,
     "metadata": {},
     "output_type": "execute_result"
    }
   ],
   "source": [
    "grouped_data['Date_order'].max()"
   ]
  },
  {
   "cell_type": "code",
   "execution_count": 14,
   "id": "f42c461b",
   "metadata": {},
   "outputs": [
    {
     "data": {
      "text/html": [
       "<div>\n",
       "<style scoped>\n",
       "    .dataframe tbody tr th:only-of-type {\n",
       "        vertical-align: middle;\n",
       "    }\n",
       "\n",
       "    .dataframe tbody tr th {\n",
       "        vertical-align: top;\n",
       "    }\n",
       "\n",
       "    .dataframe thead th {\n",
       "        text-align: right;\n",
       "    }\n",
       "</style>\n",
       "<table border=\"1\" class=\"dataframe\">\n",
       "  <thead>\n",
       "    <tr style=\"text-align: right;\">\n",
       "      <th></th>\n",
       "      <th>Date_order</th>\n",
       "      <th>user_id</th>\n",
       "      <th>Quantity</th>\n",
       "      <th>money_spent</th>\n",
       "      <th>last_purchase</th>\n",
       "    </tr>\n",
       "  </thead>\n",
       "  <tbody>\n",
       "    <tr>\n",
       "      <th>0</th>\n",
       "      <td>2019-10-06 11:34:30</td>\n",
       "      <td>546521725</td>\n",
       "      <td>1</td>\n",
       "      <td>289.52</td>\n",
       "      <td>55.517708</td>\n",
       "    </tr>\n",
       "    <tr>\n",
       "      <th>1</th>\n",
       "      <td>2019-10-25 08:39:11</td>\n",
       "      <td>560486342</td>\n",
       "      <td>1</td>\n",
       "      <td>171.90</td>\n",
       "      <td>36.639456</td>\n",
       "    </tr>\n",
       "    <tr>\n",
       "      <th>2</th>\n",
       "      <td>2019-11-02 08:35:35</td>\n",
       "      <td>563180871</td>\n",
       "      <td>1</td>\n",
       "      <td>123.55</td>\n",
       "      <td>28.641956</td>\n",
       "    </tr>\n",
       "    <tr>\n",
       "      <th>3</th>\n",
       "      <td>2019-11-11 03:35:34</td>\n",
       "      <td>566954797</td>\n",
       "      <td>1</td>\n",
       "      <td>151.61</td>\n",
       "      <td>19.850301</td>\n",
       "    </tr>\n",
       "    <tr>\n",
       "      <th>4</th>\n",
       "      <td>2019-10-17 13:37:59</td>\n",
       "      <td>560744406</td>\n",
       "      <td>2</td>\n",
       "      <td>379.78</td>\n",
       "      <td>44.431956</td>\n",
       "    </tr>\n",
       "  </tbody>\n",
       "</table>\n",
       "</div>"
      ],
      "text/plain": [
       "           Date_order    user_id  Quantity  money_spent  last_purchase\n",
       "0 2019-10-06 11:34:30  546521725         1       289.52      55.517708\n",
       "1 2019-10-25 08:39:11  560486342         1       171.90      36.639456\n",
       "2 2019-11-02 08:35:35  563180871         1       123.55      28.641956\n",
       "3 2019-11-11 03:35:34  566954797         1       151.61      19.850301\n",
       "4 2019-10-17 13:37:59  560744406         2       379.78      44.431956"
      ]
     },
     "execution_count": 14,
     "metadata": {},
     "output_type": "execute_result"
    }
   ],
   "source": [
    "import datetime as dt\n",
    "study_date = dt.datetime(2019,12,1)\n",
    "grouped_data=pd.DataFrame(grouped_data)\n",
    "grouped_data['last_purchase']=study_date - grouped_data['Date_order']\n",
    "grouped_data['last_purchase'].dt.days\n",
    "grouped_data['last_purchase']=grouped_data['last_purchase'] / np.timedelta64(1, 'D')\n",
    "grouped_data.head()"
   ]
  },
  {
   "cell_type": "code",
   "execution_count": 15,
   "id": "d1601851",
   "metadata": {},
   "outputs": [
    {
     "data": {
      "text/html": [
       "<div>\n",
       "<style scoped>\n",
       "    .dataframe tbody tr th:only-of-type {\n",
       "        vertical-align: middle;\n",
       "    }\n",
       "\n",
       "    .dataframe tbody tr th {\n",
       "        vertical-align: top;\n",
       "    }\n",
       "\n",
       "    .dataframe thead th {\n",
       "        text-align: right;\n",
       "    }\n",
       "</style>\n",
       "<table border=\"1\" class=\"dataframe\">\n",
       "  <thead>\n",
       "    <tr style=\"text-align: right;\">\n",
       "      <th></th>\n",
       "      <th>Recency</th>\n",
       "      <th>Frequency</th>\n",
       "      <th>Monetary</th>\n",
       "    </tr>\n",
       "    <tr>\n",
       "      <th>user_id</th>\n",
       "      <th></th>\n",
       "      <th></th>\n",
       "      <th></th>\n",
       "    </tr>\n",
       "  </thead>\n",
       "  <tbody>\n",
       "    <tr>\n",
       "      <th>138340325</th>\n",
       "      <td>19.758866</td>\n",
       "      <td>1</td>\n",
       "      <td>93.50</td>\n",
       "    </tr>\n",
       "    <tr>\n",
       "      <th>225644257</th>\n",
       "      <td>18.819780</td>\n",
       "      <td>1</td>\n",
       "      <td>40.91</td>\n",
       "    </tr>\n",
       "    <tr>\n",
       "      <th>253299396</th>\n",
       "      <td>24.546169</td>\n",
       "      <td>1</td>\n",
       "      <td>246.85</td>\n",
       "    </tr>\n",
       "    <tr>\n",
       "      <th>256164170</th>\n",
       "      <td>10.651921</td>\n",
       "      <td>1</td>\n",
       "      <td>113.23</td>\n",
       "    </tr>\n",
       "    <tr>\n",
       "      <th>264649825</th>\n",
       "      <td>55.141539</td>\n",
       "      <td>2</td>\n",
       "      <td>1240.04</td>\n",
       "    </tr>\n",
       "  </tbody>\n",
       "</table>\n",
       "</div>"
      ],
      "text/plain": [
       "             Recency  Frequency  Monetary\n",
       "user_id                                  \n",
       "138340325  19.758866          1     93.50\n",
       "225644257  18.819780          1     40.91\n",
       "253299396  24.546169          1    246.85\n",
       "256164170  10.651921          1    113.23\n",
       "264649825  55.141539          2   1240.04"
      ]
     },
     "execution_count": 15,
     "metadata": {},
     "output_type": "execute_result"
    }
   ],
   "source": [
    "RFM= grouped_data.groupby('user_id').agg(Recency=('last_purchase','min'),\n",
    "                                 Frequency=('user_id','count'),\n",
    "                                 Monetary=('money_spent','sum'))\n",
    "RFM.head()"
   ]
  },
  {
   "cell_type": "code",
   "execution_count": 16,
   "id": "dbf6f885",
   "metadata": {},
   "outputs": [
    {
     "data": {
      "text/plain": [
       "count    697470.000000\n",
       "mean          2.011209\n",
       "std           2.979720\n",
       "min           1.000000\n",
       "25%           1.000000\n",
       "50%           1.000000\n",
       "75%           2.000000\n",
       "max         328.000000\n",
       "Name: Frequency, dtype: float64"
      ]
     },
     "execution_count": 16,
     "metadata": {},
     "output_type": "execute_result"
    }
   ],
   "source": [
    "RFM['Frequency'].describe()"
   ]
  },
  {
   "cell_type": "code",
   "execution_count": 17,
   "id": "e86e50cd",
   "metadata": {},
   "outputs": [
    {
     "data": {
      "text/plain": [
       "count    697470.000000\n",
       "mean         25.094585\n",
       "std          17.223048\n",
       "min           0.000185\n",
       "25%          12.871965\n",
       "50%          20.587141\n",
       "75%          39.693811\n",
       "max          60.995810\n",
       "Name: Recency, dtype: float64"
      ]
     },
     "execution_count": 17,
     "metadata": {},
     "output_type": "execute_result"
    }
   ],
   "source": [
    "RFM['Recency'].describe()"
   ]
  },
  {
   "cell_type": "code",
   "execution_count": 18,
   "id": "4900395b",
   "metadata": {},
   "outputs": [
    {
     "data": {
      "text/html": [
       "<div>\n",
       "<style scoped>\n",
       "    .dataframe tbody tr th:only-of-type {\n",
       "        vertical-align: middle;\n",
       "    }\n",
       "\n",
       "    .dataframe tbody tr th {\n",
       "        vertical-align: top;\n",
       "    }\n",
       "\n",
       "    .dataframe thead th {\n",
       "        text-align: right;\n",
       "    }\n",
       "</style>\n",
       "<table border=\"1\" class=\"dataframe\">\n",
       "  <thead>\n",
       "    <tr style=\"text-align: right;\">\n",
       "      <th></th>\n",
       "      <th>Recency</th>\n",
       "      <th>Frequency</th>\n",
       "      <th>Monetary</th>\n",
       "    </tr>\n",
       "  </thead>\n",
       "  <tbody>\n",
       "    <tr>\n",
       "      <th>0.25</th>\n",
       "      <td>12.871965</td>\n",
       "      <td>1.0</td>\n",
       "      <td>118.38</td>\n",
       "    </tr>\n",
       "    <tr>\n",
       "      <th>0.50</th>\n",
       "      <td>20.587141</td>\n",
       "      <td>1.0</td>\n",
       "      <td>257.15</td>\n",
       "    </tr>\n",
       "    <tr>\n",
       "      <th>0.75</th>\n",
       "      <td>39.693811</td>\n",
       "      <td>2.0</td>\n",
       "      <td>669.23</td>\n",
       "    </tr>\n",
       "  </tbody>\n",
       "</table>\n",
       "</div>"
      ],
      "text/plain": [
       "        Recency  Frequency  Monetary\n",
       "0.25  12.871965        1.0    118.38\n",
       "0.50  20.587141        1.0    257.15\n",
       "0.75  39.693811        2.0    669.23"
      ]
     },
     "execution_count": 18,
     "metadata": {},
     "output_type": "execute_result"
    }
   ],
   "source": [
    "RFM.quantile(q=[0.25,0.5,0.75])"
   ]
  },
  {
   "cell_type": "code",
   "execution_count": 19,
   "id": "3e516b06",
   "metadata": {},
   "outputs": [
    {
     "data": {
      "text/plain": [
       "{'Recency': {0.25: 12.871964699074073,\n",
       "  0.5: 20.587141203703705,\n",
       "  0.75: 39.69381076388889},\n",
       " 'Frequency': {0.25: 1.0, 0.5: 1.0, 0.75: 2.0},\n",
       " 'Monetary': {0.25: 118.38, 0.5: 257.15, 0.75: 669.23}}"
      ]
     },
     "execution_count": 19,
     "metadata": {},
     "output_type": "execute_result"
    }
   ],
   "source": [
    "quartiles=RFM.quantile(q=[0.25,0.5,0.75]).to_dict()\n",
    "quartiles"
   ]
  },
  {
   "cell_type": "markdown",
   "id": "3037179f",
   "metadata": {},
   "source": [
    "## Creation of RFM Segments"
   ]
  },
  {
   "cell_type": "code",
   "execution_count": 20,
   "id": "98a0ad99",
   "metadata": {},
   "outputs": [],
   "source": [
    "## for Recency \n",
    "\n",
    "def R(x,p,d):\n",
    "    if x <= d[p][0.25]:\n",
    "        return 1\n",
    "    elif x <= d[p][0.50]:\n",
    "        return 2\n",
    "    elif x <= d[p][0.75]: \n",
    "        return 3\n",
    "    else:\n",
    "        return 4\n",
    "    \n",
    "## for Frequency and Monetary \n",
    "\n",
    "def FM(x,p,d):\n",
    "    if x <= d[p][0.25]:\n",
    "        return 4\n",
    "    elif x <= d[p][0.50]:\n",
    "        return 3\n",
    "    elif x <= d[p][0.75]: \n",
    "        return 2\n",
    "    else:\n",
    "        return 1  "
   ]
  },
  {
   "cell_type": "code",
   "execution_count": 21,
   "id": "4ea9b583",
   "metadata": {},
   "outputs": [
    {
     "data": {
      "text/html": [
       "<div>\n",
       "<style scoped>\n",
       "    .dataframe tbody tr th:only-of-type {\n",
       "        vertical-align: middle;\n",
       "    }\n",
       "\n",
       "    .dataframe tbody tr th {\n",
       "        vertical-align: top;\n",
       "    }\n",
       "\n",
       "    .dataframe thead th {\n",
       "        text-align: right;\n",
       "    }\n",
       "</style>\n",
       "<table border=\"1\" class=\"dataframe\">\n",
       "  <thead>\n",
       "    <tr style=\"text-align: right;\">\n",
       "      <th></th>\n",
       "      <th>Recency</th>\n",
       "      <th>Frequency</th>\n",
       "      <th>Monetary</th>\n",
       "      <th>R_Quartile</th>\n",
       "      <th>F_Quartile</th>\n",
       "      <th>M_Quartile</th>\n",
       "      <th>RFM_segmentation</th>\n",
       "      <th>RFM_score</th>\n",
       "    </tr>\n",
       "    <tr>\n",
       "      <th>user_id</th>\n",
       "      <th></th>\n",
       "      <th></th>\n",
       "      <th></th>\n",
       "      <th></th>\n",
       "      <th></th>\n",
       "      <th></th>\n",
       "      <th></th>\n",
       "      <th></th>\n",
       "    </tr>\n",
       "  </thead>\n",
       "  <tbody>\n",
       "    <tr>\n",
       "      <th>138340325</th>\n",
       "      <td>19.758866</td>\n",
       "      <td>1</td>\n",
       "      <td>93.50</td>\n",
       "      <td>2</td>\n",
       "      <td>4</td>\n",
       "      <td>4</td>\n",
       "      <td>244</td>\n",
       "      <td>10</td>\n",
       "    </tr>\n",
       "    <tr>\n",
       "      <th>225644257</th>\n",
       "      <td>18.819780</td>\n",
       "      <td>1</td>\n",
       "      <td>40.91</td>\n",
       "      <td>2</td>\n",
       "      <td>4</td>\n",
       "      <td>4</td>\n",
       "      <td>244</td>\n",
       "      <td>10</td>\n",
       "    </tr>\n",
       "    <tr>\n",
       "      <th>253299396</th>\n",
       "      <td>24.546169</td>\n",
       "      <td>1</td>\n",
       "      <td>246.85</td>\n",
       "      <td>3</td>\n",
       "      <td>4</td>\n",
       "      <td>3</td>\n",
       "      <td>343</td>\n",
       "      <td>10</td>\n",
       "    </tr>\n",
       "    <tr>\n",
       "      <th>256164170</th>\n",
       "      <td>10.651921</td>\n",
       "      <td>1</td>\n",
       "      <td>113.23</td>\n",
       "      <td>1</td>\n",
       "      <td>4</td>\n",
       "      <td>4</td>\n",
       "      <td>144</td>\n",
       "      <td>9</td>\n",
       "    </tr>\n",
       "    <tr>\n",
       "      <th>264649825</th>\n",
       "      <td>55.141539</td>\n",
       "      <td>2</td>\n",
       "      <td>1240.04</td>\n",
       "      <td>4</td>\n",
       "      <td>2</td>\n",
       "      <td>1</td>\n",
       "      <td>421</td>\n",
       "      <td>7</td>\n",
       "    </tr>\n",
       "  </tbody>\n",
       "</table>\n",
       "</div>"
      ],
      "text/plain": [
       "             Recency  Frequency  Monetary  R_Quartile  F_Quartile  M_Quartile   \n",
       "user_id                                                                         \n",
       "138340325  19.758866          1     93.50           2           4           4  \\\n",
       "225644257  18.819780          1     40.91           2           4           4   \n",
       "253299396  24.546169          1    246.85           3           4           3   \n",
       "256164170  10.651921          1    113.23           1           4           4   \n",
       "264649825  55.141539          2   1240.04           4           2           1   \n",
       "\n",
       "          RFM_segmentation  RFM_score  \n",
       "user_id                                \n",
       "138340325              244         10  \n",
       "225644257              244         10  \n",
       "253299396              343         10  \n",
       "256164170              144          9  \n",
       "264649825              421          7  "
      ]
     },
     "execution_count": 21,
     "metadata": {},
     "output_type": "execute_result"
    }
   ],
   "source": [
    "#create RFM segmentation column\n",
    "RFM['R_Quartile'] = RFM['Recency'].apply(R, args=('Recency',quartiles,))\n",
    "RFM['F_Quartile'] = RFM['Frequency'].apply(FM, args=('Frequency',quartiles,))\n",
    "RFM['M_Quartile'] = RFM['Monetary'].apply(FM, args=('Monetary',quartiles,))\n",
    "RFM['RFM_segmentation'] = RFM.R_Quartile.map(str) \\\n",
    "                    + RFM.F_Quartile.map(str) \\\n",
    "                    + RFM.M_Quartile.map(str)\n",
    "RFM['RFM_score'] = RFM.R_Quartile.map(int) \\\n",
    "                    + RFM.F_Quartile.map(int) \\\n",
    "                    + RFM.M_Quartile.map(int)\n",
    "RFM.head()"
   ]
  },
  {
   "cell_type": "code",
   "execution_count": 22,
   "id": "49d76445",
   "metadata": {},
   "outputs": [
    {
     "data": {
      "text/html": [
       "<div>\n",
       "<style scoped>\n",
       "    .dataframe tbody tr th:only-of-type {\n",
       "        vertical-align: middle;\n",
       "    }\n",
       "\n",
       "    .dataframe tbody tr th {\n",
       "        vertical-align: top;\n",
       "    }\n",
       "\n",
       "    .dataframe thead th {\n",
       "        text-align: right;\n",
       "    }\n",
       "</style>\n",
       "<table border=\"1\" class=\"dataframe\">\n",
       "  <thead>\n",
       "    <tr style=\"text-align: right;\">\n",
       "      <th></th>\n",
       "      <th>Recency</th>\n",
       "      <th>Frequency</th>\n",
       "      <th>Monetary</th>\n",
       "      <th>R_Quartile</th>\n",
       "      <th>F_Quartile</th>\n",
       "      <th>M_Quartile</th>\n",
       "      <th>RFM_segmentation</th>\n",
       "      <th>RFM_score</th>\n",
       "      <th>RFM_label</th>\n",
       "    </tr>\n",
       "    <tr>\n",
       "      <th>user_id</th>\n",
       "      <th></th>\n",
       "      <th></th>\n",
       "      <th></th>\n",
       "      <th></th>\n",
       "      <th></th>\n",
       "      <th></th>\n",
       "      <th></th>\n",
       "      <th></th>\n",
       "      <th></th>\n",
       "    </tr>\n",
       "  </thead>\n",
       "  <tbody>\n",
       "    <tr>\n",
       "      <th>138340325</th>\n",
       "      <td>19.758866</td>\n",
       "      <td>1</td>\n",
       "      <td>93.50</td>\n",
       "      <td>2</td>\n",
       "      <td>4</td>\n",
       "      <td>4</td>\n",
       "      <td>244</td>\n",
       "      <td>10</td>\n",
       "      <td>Lost</td>\n",
       "    </tr>\n",
       "    <tr>\n",
       "      <th>225644257</th>\n",
       "      <td>18.819780</td>\n",
       "      <td>1</td>\n",
       "      <td>40.91</td>\n",
       "      <td>2</td>\n",
       "      <td>4</td>\n",
       "      <td>4</td>\n",
       "      <td>244</td>\n",
       "      <td>10</td>\n",
       "      <td>Lost</td>\n",
       "    </tr>\n",
       "    <tr>\n",
       "      <th>253299396</th>\n",
       "      <td>24.546169</td>\n",
       "      <td>1</td>\n",
       "      <td>246.85</td>\n",
       "      <td>3</td>\n",
       "      <td>4</td>\n",
       "      <td>3</td>\n",
       "      <td>343</td>\n",
       "      <td>10</td>\n",
       "      <td>Lost</td>\n",
       "    </tr>\n",
       "    <tr>\n",
       "      <th>256164170</th>\n",
       "      <td>10.651921</td>\n",
       "      <td>1</td>\n",
       "      <td>113.23</td>\n",
       "      <td>1</td>\n",
       "      <td>4</td>\n",
       "      <td>4</td>\n",
       "      <td>144</td>\n",
       "      <td>9</td>\n",
       "      <td>Hibernating</td>\n",
       "    </tr>\n",
       "    <tr>\n",
       "      <th>264649825</th>\n",
       "      <td>55.141539</td>\n",
       "      <td>2</td>\n",
       "      <td>1240.04</td>\n",
       "      <td>4</td>\n",
       "      <td>2</td>\n",
       "      <td>1</td>\n",
       "      <td>421</td>\n",
       "      <td>7</td>\n",
       "      <td>About To Sleep</td>\n",
       "    </tr>\n",
       "  </tbody>\n",
       "</table>\n",
       "</div>"
      ],
      "text/plain": [
       "             Recency  Frequency  Monetary  R_Quartile  F_Quartile  M_Quartile   \n",
       "user_id                                                                         \n",
       "138340325  19.758866          1     93.50           2           4           4  \\\n",
       "225644257  18.819780          1     40.91           2           4           4   \n",
       "253299396  24.546169          1    246.85           3           4           3   \n",
       "256164170  10.651921          1    113.23           1           4           4   \n",
       "264649825  55.141539          2   1240.04           4           2           1   \n",
       "\n",
       "          RFM_segmentation  RFM_score       RFM_label  \n",
       "user_id                                                \n",
       "138340325              244         10            Lost  \n",
       "225644257              244         10            Lost  \n",
       "253299396              343         10            Lost  \n",
       "256164170              144          9     Hibernating  \n",
       "264649825              421          7  About To Sleep  "
      ]
     },
     "execution_count": 22,
     "metadata": {},
     "output_type": "execute_result"
    }
   ],
   "source": [
    "# Define rfm_level function\n",
    "def RFM_label(data):\n",
    "    if data['RFM_score'] >= 10:\n",
    "        return 'Lost'\n",
    "    elif ((data['RFM_score'] >= 9) and (data['RFM_score'] < 10)):\n",
    "        return 'Hibernating'\n",
    "    elif ((data['RFM_score'] >= 8) and (data['RFM_score'] < 9)):\n",
    "        return 'Can’t Lose Them'\n",
    "    elif ((data['RFM_score'] >= 7) and (data['RFM_score'] < 8)):\n",
    "        return 'About To Sleep'\n",
    "    elif ((data['RFM_score'] >= 6) and (data['RFM_score'] < 7)):\n",
    "        return 'Promising'\n",
    "    elif ((data['RFM_score'] >= 5) and (data['RFM_score'] < 6)):\n",
    "        return 'Potential Loyalist'\n",
    "    elif ((data['RFM_score'] >= 4) and (data['RFM_score'] < 5)):\n",
    "        return 'Loyal Customers'\n",
    "    else:\n",
    "        return 'Champions'\n",
    "#Create RFM label for customer\n",
    "RFM['RFM_label'] = RFM.apply(RFM_label, axis=1)\n",
    "RFM.head()"
   ]
  },
  {
   "cell_type": "code",
   "execution_count": 23,
   "id": "b05d31e2",
   "metadata": {},
   "outputs": [
    {
     "name": "stdout",
     "output_type": "stream",
     "text": [
      "                   Recency Frequency Monetary        \n",
      "                      mean      mean     mean   count\n",
      "RFM_label                                            \n",
      "About To Sleep        20.5       1.7    628.8   71309\n",
      "Can’t Lose Them       19.9       1.3    406.9   90809\n",
      "Champions              5.1       7.9   3777.5   37405\n",
      "Hibernating           22.5       1.1    309.2  114053\n",
      "Lost                  38.6       1.0    141.1  231538\n",
      "Loyal Customers       10.4       4.3   1897.9   40675\n",
      "Potential Loyalist    16.8       3.5   1468.7   52728\n",
      "Promising             21.1       2.5   1009.3   58953\n"
     ]
    }
   ],
   "source": [
    "# Calculate average values for each RFM_Level, and return a size of each segment \n",
    "RFM_desc = RFM.groupby('RFM_label').agg({\n",
    "    'Recency': 'mean',\n",
    "    'Frequency': 'mean',\n",
    "    'Monetary': ['mean', 'count']\n",
    "}).round(1)\n",
    "# Print the aggregated dataset\n",
    "print(RFM_desc)"
   ]
  },
  {
   "cell_type": "code",
   "execution_count": 24,
   "id": "d9a9a529",
   "metadata": {},
   "outputs": [
    {
     "data": {
      "image/png": "[encoded data removed]",
      "text/plain": [
       "<Figure size 1600x900 with 1 Axes>"
      ]
     },
     "metadata": {},
     "output_type": "display_data"
    }
   ],
   "source": [
    "RFM_desc.columns = RFM_desc.columns.droplevel()\n",
    "RFM_desc.columns = ['RecencyMean','FrequencyMean','MonetaryMean', 'Count']\n",
    "#Create our plot and resize it.\n",
    "fig = plt.gcf()\n",
    "ax = fig.add_subplot()\n",
    "fig.set_size_inches(16, 9)\n",
    "squarify.plot(sizes=RFM_desc['Count'], \n",
    "              label=['Lost',\n",
    "                     'Hibernating',\n",
    "                     'Can’t Lose Them',\n",
    "                     'About To Sleep',\n",
    "                     'Promising', \n",
    "                     'Potential Loyalist', \n",
    "                     'Loyal Customers',\n",
    "                     'Champions'], alpha=.6 )\n",
    "plt.title(\"RFM Segments\",fontsize=18,fontweight=\"bold\")\n",
    "plt.axis('off')\n",
    "plt.show()"
   ]
  },
  {
   "cell_type": "code",
   "execution_count": null,
   "id": "8f8f1a5d",
   "metadata": {},
   "outputs": [],
   "source": [
    "RFM_desc"
   ]
  }
 ],
 "metadata": {
  "kernelspec": {
   "display_name": "Python 3 (ipykernel)",
   "language": "python",
   "name": "python3"
  },
  "language_info": {
   "codemirror_mode": {
    "name": "ipython",
    "version": 3
   },
   "file_extension": ".py",
   "mimetype": "text/x-python",
   "name": "python",
   "nbconvert_exporter": "python",
   "pygments_lexer": "ipython3",
   "version": "3.9.16"
  }
 },
 "nbformat": 4,
 "nbformat_minor": 5
}
